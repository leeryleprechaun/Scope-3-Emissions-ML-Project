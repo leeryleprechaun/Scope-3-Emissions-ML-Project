{
  "nbformat": 4,
  "nbformat_minor": 0,
  "metadata": {
    "colab": {
      "provenance": [],
      "authorship_tag": "ABX9TyNpatJfj+obn33C4ztIYurv",
      "include_colab_link": true
    },
    "kernelspec": {
      "name": "python3",
      "display_name": "Python 3"
    },
    "language_info": {
      "name": "python"
    }
  },
  "cells": [
    {
      "cell_type": "markdown",
      "metadata": {
        "id": "view-in-github",
        "colab_type": "text"
      },
      "source": [
        "<a href=\"https://colab.research.google.com/github/leeryleprechaun/MSDS_Practicum_Public/blob/main/week_6_modeling.ipynb\" target=\"_parent\"><img src=\"https://colab.research.google.com/assets/colab-badge.svg\" alt=\"Open In Colab\"/></a>"
      ]
    },
    {
      "cell_type": "markdown",
      "source": [
        "# Update\n",
        "#### After lasts night's meeting the best model appears to by a Lasso Regression model with an R2 of 0.388, the model was built by Michelle but is using the unadjusted values.\n",
        "\n",
        "## Suggestions for this week are...\n",
        "\n",
        "\n",
        "*   Look at 1 primary sector at a time\n",
        "*   Try non-linear models\n",
        "*   Try model with additional data\n",
        "*   Use MAE or Root Mean Squared\n",
        "*   Keep the Y variable unscaled (pull it from the original set)\n",
        "\n",
        "\n",
        "## Other Items to look at would be....\n",
        "\n",
        "\n",
        "*   Try a log scaler\n",
        "*   GXBoost\n",
        "*   Deep Learning Approach\n",
        "*   Trim data again (quantile)\n",
        "\n",
        "\n",
        "\n",
        "\n"
      ],
      "metadata": {
        "id": "Cjh7aP2sF5v5"
      }
    },
    {
      "cell_type": "code",
      "execution_count": null,
      "metadata": {
        "colab": {
          "base_uri": "https://localhost:8080/"
        },
        "id": "MyZfGiqGF2Hf",
        "outputId": "bf9f8f15-690b-4ca1-89f3-f7b16d248879"
      },
      "outputs": [
        {
          "output_type": "stream",
          "name": "stdout",
          "text": [
            "<class 'pandas.core.frame.DataFrame'>\n",
            "RangeIndex: 810 entries, 0 to 809\n",
            "Data columns (total 52 columns):\n",
            " #   Column                        Non-Null Count  Dtype  \n",
            "---  ------                        --------------  -----  \n",
            " 0   Unnamed: 0                    810 non-null    int64  \n",
            " 1   account_number                810 non-null    int64  \n",
            " 2   organization                  810 non-null    object \n",
            " 3   country                       810 non-null    object \n",
            " 4   primary_activity              810 non-null    object \n",
            " 5   primary_sector                810 non-null    object \n",
            " 6   primary_industry              810 non-null    object \n",
            " 7   cat_6                         810 non-null    float64\n",
            " 8   cat_2                         810 non-null    float64\n",
            " 9   cat_13                        810 non-null    float64\n",
            " 10  cat_9                         810 non-null    float64\n",
            " 11  cat_7                         810 non-null    float64\n",
            " 12  cat_12                        810 non-null    float64\n",
            " 13  cat_14                        810 non-null    float64\n",
            " 14  cat_3                         810 non-null    float64\n",
            " 15  cat_15                        810 non-null    float64\n",
            " 16  cat_17                        810 non-null    int64  \n",
            " 17  cat_16                        810 non-null    float64\n",
            " 18  cat_10                        810 non-null    float64\n",
            " 19  cat_1                         810 non-null    float64\n",
            " 20  cat_8                         810 non-null    float64\n",
            " 21  cat_4                         810 non-null    float64\n",
            " 22  cat_11                        810 non-null    float64\n",
            " 23  cat_5                         810 non-null    float64\n",
            " 24  revenue                       810 non-null    float64\n",
            " 25  verification_cycle_in_place   806 non-null    object \n",
            " 26  report_status                 807 non-null    object \n",
            " 27  verification_type             804 non-null    object \n",
            " 28  statement                     782 non-null    object \n",
            " 29  total_emissions               810 non-null    float64\n",
            " 30  revenue / emissions           810 non-null    float64\n",
            " 31  Account                       810 non-null    int64  \n",
            " 32  Organization                  810 non-null    object \n",
            " 33  Percent S3 verified           810 non-null    float64\n",
            " 34  Percent S3 verified FILTERED  810 non-null    float64\n",
            " 35  cat_1_adj                     810 non-null    float64\n",
            " 36  cat_2_adj                     810 non-null    float64\n",
            " 37  cat_3_adj                     810 non-null    float64\n",
            " 38  cat_4_adj                     810 non-null    float64\n",
            " 39  cat_5_adj                     810 non-null    float64\n",
            " 40  cat_6_adj                     810 non-null    float64\n",
            " 41  cat_7_adj                     810 non-null    float64\n",
            " 42  cat_8_adj                     810 non-null    float64\n",
            " 43  cat_9_adj                     810 non-null    float64\n",
            " 44  cat_10_adj                    810 non-null    float64\n",
            " 45  cat_11_adj                    810 non-null    float64\n",
            " 46  cat_12_adj                    810 non-null    float64\n",
            " 47  cat_13_adj                    810 non-null    float64\n",
            " 48  cat_14_adj                    810 non-null    float64\n",
            " 49  cat_15_adj                    810 non-null    float64\n",
            " 50  cat_16_adj                    810 non-null    float64\n",
            " 51  cat_17_adj                    810 non-null    float64\n",
            "dtypes: float64(38), int64(4), object(10)\n",
            "memory usage: 329.2+ KB\n"
          ]
        }
      ],
      "source": [
        "# Loading in the data set\n",
        "# This is just the large frame of 810 companies with trust scores\n",
        "# All the emissions data is adjusted for revenue\n",
        "\n",
        "import pandas as pd\n",
        "\n",
        "url=''\n",
        "url='https://drive.google.com/uc?id=' + url.split('/')[-2]\n",
        "df = pd.read_csv(url)\n",
        "df.info()"
      ]
    },
    {
      "cell_type": "code",
      "source": [
        "# I am gonig to set the account number as the index AND drop the organization names, which will not help with modeling\n",
        "newdf = df\n",
        "\n",
        "newdf = newdf.drop(['Unnamed: 0', 'country', \n",
        "    'verification_cycle_in_place', 'Account',\n",
        "    'report_status', 'statement', 'Organization',\n",
        "    'verification_type',\n",
        "    'cat_1', 'cat_2', 'cat_3', 'cat_4', 'cat_5',\n",
        "    'cat_6', 'cat_7', 'cat_8', 'cat_9', 'cat_10', \n",
        "    'cat_11', 'cat_12', 'cat_13', 'total_emissions',\n",
        "    'cat_14', 'cat_15', 'cat_16', 'cat_17', 'revenue / emissions' ], axis=1)\n",
        "newdf"
      ],
      "metadata": {
        "id": "Ljs1xJVBHFcG"
      },
      "execution_count": null,
      "outputs": []
    },
    {
      "cell_type": "code",
      "source": [
        "# Importing libraries and changing 0 to nan\n",
        "import numpy as np\n",
        "import matplotlib.pyplot as plt\n",
        "import seaborn as sns\n",
        "\n",
        "%matplotlib inline\n",
        "\n",
        "newdf = newdf.replace(0, np.nan)\n",
        "newdf.info()"
      ],
      "metadata": {
        "colab": {
          "base_uri": "https://localhost:8080/"
        },
        "id": "UyTQmri9HNAu",
        "outputId": "e1603aba-9bdc-4db1-f10e-468ee3a17fcc"
      },
      "execution_count": null,
      "outputs": [
        {
          "output_type": "stream",
          "name": "stdout",
          "text": [
            "<class 'pandas.core.frame.DataFrame'>\n",
            "RangeIndex: 810 entries, 0 to 809\n",
            "Data columns (total 25 columns):\n",
            " #   Column                        Non-Null Count  Dtype  \n",
            "---  ------                        --------------  -----  \n",
            " 0   account_number                810 non-null    int64  \n",
            " 1   organization                  810 non-null    object \n",
            " 2   primary_activity              810 non-null    object \n",
            " 3   primary_sector                810 non-null    object \n",
            " 4   primary_industry              810 non-null    object \n",
            " 5   revenue                       810 non-null    float64\n",
            " 6   Percent S3 verified           401 non-null    float64\n",
            " 7   Percent S3 verified FILTERED  230 non-null    float64\n",
            " 8   cat_1_adj                     634 non-null    float64\n",
            " 9   cat_2_adj                     437 non-null    float64\n",
            " 10  cat_3_adj                     607 non-null    float64\n",
            " 11  cat_4_adj                     498 non-null    float64\n",
            " 12  cat_5_adj                     593 non-null    float64\n",
            " 13  cat_6_adj                     727 non-null    float64\n",
            " 14  cat_7_adj                     548 non-null    float64\n",
            " 15  cat_8_adj                     139 non-null    float64\n",
            " 16  cat_9_adj                     319 non-null    float64\n",
            " 17  cat_10_adj                    96 non-null     float64\n",
            " 18  cat_11_adj                    325 non-null    float64\n",
            " 19  cat_12_adj                    304 non-null    float64\n",
            " 20  cat_13_adj                    124 non-null    float64\n",
            " 21  cat_14_adj                    41 non-null     float64\n",
            " 22  cat_15_adj                    112 non-null    float64\n",
            " 23  cat_16_adj                    16 non-null     float64\n",
            " 24  cat_17_adj                    7 non-null      float64\n",
            "dtypes: float64(20), int64(1), object(4)\n",
            "memory usage: 158.3+ KB\n"
          ]
        }
      ]
    },
    {
      "cell_type": "code",
      "source": [
        "# Adding the scope 1 and 2 emissions columns\n",
        "\n",
        "url=''\n",
        "url='https://drive.google.com/uc?id=' + url.split('/')[-2]\n",
        "scope12 = pd.read_csv(url)\n",
        "scope12.info()\n",
        "\n",
        "\n",
        "\n"
      ],
      "metadata": {
        "id": "IPEQJRymLk_f"
      },
      "execution_count": null,
      "outputs": []
    },
    {
      "cell_type": "code",
      "source": [
        "mergedf = newdf.merge(scope12, left_on=\"organization\", right_on=\"Organization\")\n",
        "df2 = mergedf.set_index(\"account_number\")\n",
        "df2 = df2.drop([\"Organization\", \"organization\", \"Account number\"], axis=1)\n",
        "df2.columns = [*df2.columns[:-1], 'scope_1_2']\n",
        "df2.head(2)"
      ],
      "metadata": {
        "id": "Ed8lKPd1LlDt"
      },
      "execution_count": null,
      "outputs": []
    },
    {
      "cell_type": "code",
      "source": [
        "#  Importing libraries and changing 0 to nan\n",
        "import numpy as np\n",
        "import matplotlib.pyplot as plt\n",
        "import seaborn as sns\n",
        "\n",
        "%matplotlib inline\n",
        "\n",
        "df2 = df2.replace(0, np.nan)\n",
        "df2.info()"
      ],
      "metadata": {
        "colab": {
          "base_uri": "https://localhost:8080/"
        },
        "id": "BeQLw1RTLlG7",
        "outputId": "b8978792-5531-42b0-b50b-b7bba72adcd3"
      },
      "execution_count": null,
      "outputs": [
        {
          "output_type": "stream",
          "name": "stdout",
          "text": [
            "<class 'pandas.core.frame.DataFrame'>\n",
            "Int64Index: 887 entries, 31799 to 6841\n",
            "Data columns (total 24 columns):\n",
            " #   Column                        Non-Null Count  Dtype  \n",
            "---  ------                        --------------  -----  \n",
            " 0   primary_activity              887 non-null    object \n",
            " 1   primary_sector                887 non-null    object \n",
            " 2   primary_industry              887 non-null    object \n",
            " 3   revenue                       887 non-null    float64\n",
            " 4   Percent S3 verified           440 non-null    float64\n",
            " 5   Percent S3 verified FILTERED  254 non-null    float64\n",
            " 6   cat_1_adj                     694 non-null    float64\n",
            " 7   cat_2_adj                     477 non-null    float64\n",
            " 8   cat_3_adj                     667 non-null    float64\n",
            " 9   cat_4_adj                     540 non-null    float64\n",
            " 10  cat_5_adj                     651 non-null    float64\n",
            " 11  cat_6_adj                     796 non-null    float64\n",
            " 12  cat_7_adj                     602 non-null    float64\n",
            " 13  cat_8_adj                     149 non-null    float64\n",
            " 14  cat_9_adj                     353 non-null    float64\n",
            " 15  cat_10_adj                    105 non-null    float64\n",
            " 16  cat_11_adj                    360 non-null    float64\n",
            " 17  cat_12_adj                    331 non-null    float64\n",
            " 18  cat_13_adj                    146 non-null    float64\n",
            " 19  cat_14_adj                    50 non-null     float64\n",
            " 20  cat_15_adj                    122 non-null    float64\n",
            " 21  cat_16_adj                    20 non-null     float64\n",
            " 22  cat_17_adj                    8 non-null      float64\n",
            " 23  scope_1_2                     871 non-null    float64\n",
            "dtypes: float64(21), object(3)\n",
            "memory usage: 173.2+ KB\n"
          ]
        }
      ]
    },
    {
      "cell_type": "code",
      "source": [
        "df3 = df2"
      ],
      "metadata": {
        "id": "hD8RCW9HWq4l"
      },
      "execution_count": null,
      "outputs": []
    },
    {
      "cell_type": "code",
      "source": [
        "# Chemicals Sector\n",
        "df_chemicals = df3[(df3.primary_sector == 'Chemicals')]\n",
        "df_chemicals.info()"
      ],
      "metadata": {
        "colab": {
          "base_uri": "https://localhost:8080/"
        },
        "id": "ZNMu_Ql3U-0t",
        "outputId": "94921fb5-c270-46c4-9a43-24c581a45dd5"
      },
      "execution_count": null,
      "outputs": [
        {
          "output_type": "stream",
          "name": "stdout",
          "text": [
            "<class 'pandas.core.frame.DataFrame'>\n",
            "Int64Index: 58 entries, 61706 to 20928\n",
            "Data columns (total 24 columns):\n",
            " #   Column                        Non-Null Count  Dtype  \n",
            "---  ------                        --------------  -----  \n",
            " 0   primary_activity              58 non-null     object \n",
            " 1   primary_sector                58 non-null     object \n",
            " 2   primary_industry              58 non-null     object \n",
            " 3   revenue                       58 non-null     float64\n",
            " 4   Percent S3 verified           27 non-null     float64\n",
            " 5   Percent S3 verified FILTERED  24 non-null     float64\n",
            " 6   cat_1_adj                     55 non-null     float64\n",
            " 7   cat_2_adj                     44 non-null     float64\n",
            " 8   cat_3_adj                     53 non-null     float64\n",
            " 9   cat_4_adj                     55 non-null     float64\n",
            " 10  cat_5_adj                     51 non-null     float64\n",
            " 11  cat_6_adj                     55 non-null     float64\n",
            " 12  cat_7_adj                     49 non-null     float64\n",
            " 13  cat_8_adj                     16 non-null     float64\n",
            " 14  cat_9_adj                     38 non-null     float64\n",
            " 15  cat_10_adj                    8 non-null      float64\n",
            " 16  cat_11_adj                    22 non-null     float64\n",
            " 17  cat_12_adj                    34 non-null     float64\n",
            " 18  cat_13_adj                    9 non-null      float64\n",
            " 19  cat_14_adj                    0 non-null      float64\n",
            " 20  cat_15_adj                    16 non-null     float64\n",
            " 21  cat_16_adj                    0 non-null      float64\n",
            " 22  cat_17_adj                    0 non-null      float64\n",
            " 23  scope_1_2                     58 non-null     float64\n",
            "dtypes: float64(21), object(3)\n",
            "memory usage: 11.3+ KB\n"
          ]
        }
      ]
    },
    {
      "cell_type": "code",
      "source": [
        "# Powered Machinery\n",
        "df_power_machine = df3[(df3.primary_sector == 'Powered machinery')]\n",
        "df_power_machine.info()"
      ],
      "metadata": {
        "colab": {
          "base_uri": "https://localhost:8080/"
        },
        "id": "zUQPrRU4U-5C",
        "outputId": "e59e772b-4f5f-499a-dbfa-b0f02e8ff0fa"
      },
      "execution_count": null,
      "outputs": [
        {
          "output_type": "stream",
          "name": "stdout",
          "text": [
            "<class 'pandas.core.frame.DataFrame'>\n",
            "Int64Index: 45 entries, 5411 to 4136\n",
            "Data columns (total 24 columns):\n",
            " #   Column                        Non-Null Count  Dtype  \n",
            "---  ------                        --------------  -----  \n",
            " 0   primary_activity              45 non-null     object \n",
            " 1   primary_sector                45 non-null     object \n",
            " 2   primary_industry              45 non-null     object \n",
            " 3   revenue                       45 non-null     float64\n",
            " 4   Percent S3 verified           19 non-null     float64\n",
            " 5   Percent S3 verified FILTERED  10 non-null     float64\n",
            " 6   cat_1_adj                     39 non-null     float64\n",
            " 7   cat_2_adj                     34 non-null     float64\n",
            " 8   cat_3_adj                     38 non-null     float64\n",
            " 9   cat_4_adj                     35 non-null     float64\n",
            " 10  cat_5_adj                     36 non-null     float64\n",
            " 11  cat_6_adj                     42 non-null     float64\n",
            " 12  cat_7_adj                     36 non-null     float64\n",
            " 13  cat_8_adj                     5 non-null      float64\n",
            " 14  cat_9_adj                     23 non-null     float64\n",
            " 15  cat_10_adj                    5 non-null      float64\n",
            " 16  cat_11_adj                    30 non-null     float64\n",
            " 17  cat_12_adj                    17 non-null     float64\n",
            " 18  cat_13_adj                    6 non-null      float64\n",
            " 19  cat_14_adj                    0 non-null      float64\n",
            " 20  cat_15_adj                    5 non-null      float64\n",
            " 21  cat_16_adj                    0 non-null      float64\n",
            " 22  cat_17_adj                    0 non-null      float64\n",
            " 23  scope_1_2                     45 non-null     float64\n",
            "dtypes: float64(21), object(3)\n",
            "memory usage: 8.8+ KB\n"
          ]
        }
      ]
    },
    {
      "cell_type": "code",
      "source": [
        "# Financial services\n",
        "df_financial = df3[(df3.primary_sector == 'Financial services')]\n",
        "df_financial.info()"
      ],
      "metadata": {
        "colab": {
          "base_uri": "https://localhost:8080/"
        },
        "id": "0Y9Pkl4NU-8b",
        "outputId": "c1e81ce8-4fe3-4c5c-a27f-3ab26edfa3ef"
      },
      "execution_count": null,
      "outputs": [
        {
          "output_type": "stream",
          "name": "stdout",
          "text": [
            "<class 'pandas.core.frame.DataFrame'>\n",
            "Int64Index: 115 entries, 9411 to 15169\n",
            "Data columns (total 24 columns):\n",
            " #   Column                        Non-Null Count  Dtype  \n",
            "---  ------                        --------------  -----  \n",
            " 0   primary_activity              115 non-null    object \n",
            " 1   primary_sector                115 non-null    object \n",
            " 2   primary_industry              115 non-null    object \n",
            " 3   revenue                       115 non-null    float64\n",
            " 4   Percent S3 verified           74 non-null     float64\n",
            " 5   Percent S3 verified FILTERED  38 non-null     float64\n",
            " 6   cat_1_adj                     83 non-null     float64\n",
            " 7   cat_2_adj                     34 non-null     float64\n",
            " 8   cat_3_adj                     74 non-null     float64\n",
            " 9   cat_4_adj                     24 non-null     float64\n",
            " 10  cat_5_adj                     79 non-null     float64\n",
            " 11  cat_6_adj                     110 non-null    float64\n",
            " 12  cat_7_adj                     62 non-null     float64\n",
            " 13  cat_8_adj                     10 non-null     float64\n",
            " 14  cat_9_adj                     14 non-null     float64\n",
            " 15  cat_10_adj                    0 non-null      float64\n",
            " 16  cat_11_adj                    8 non-null      float64\n",
            " 17  cat_12_adj                    9 non-null      float64\n",
            " 18  cat_13_adj                    24 non-null     float64\n",
            " 19  cat_14_adj                    0 non-null      float64\n",
            " 20  cat_15_adj                    0 non-null      float64\n",
            " 21  cat_16_adj                    3 non-null      float64\n",
            " 22  cat_17_adj                    2 non-null      float64\n",
            " 23  scope_1_2                     111 non-null    float64\n",
            "dtypes: float64(21), object(3)\n",
            "memory usage: 22.5+ KB\n"
          ]
        }
      ]
    },
    {
      "cell_type": "markdown",
      "source": [
        "## Financial services\n",
        "It looks like there is a lot of data here, so I am going to run with this data set for now"
      ],
      "metadata": {
        "id": "2595sCS4V4OZ"
      }
    },
    {
      "cell_type": "code",
      "source": [
        "# Now I am going to create a sheet that has the missing values that need to be imputed\n",
        "complete_df = df_financial[df_financial.cat_1_adj.notnull()]\n",
        "\n",
        "missing_df = df_financial[df_financial.cat_1_adj.isnull()]\n",
        "complete_df.info()\n",
        "#missing_df.info()"
      ],
      "metadata": {
        "colab": {
          "base_uri": "https://localhost:8080/"
        },
        "id": "NWDo-AvFU-_n",
        "outputId": "9a6695a5-00a9-47de-e338-6da3bc9be391"
      },
      "execution_count": null,
      "outputs": [
        {
          "output_type": "stream",
          "name": "stdout",
          "text": [
            "<class 'pandas.core.frame.DataFrame'>\n",
            "Int64Index: 83 entries, 9411 to 15169\n",
            "Data columns (total 24 columns):\n",
            " #   Column                        Non-Null Count  Dtype  \n",
            "---  ------                        --------------  -----  \n",
            " 0   primary_activity              83 non-null     object \n",
            " 1   primary_sector                83 non-null     object \n",
            " 2   primary_industry              83 non-null     object \n",
            " 3   revenue                       83 non-null     float64\n",
            " 4   Percent S3 verified           58 non-null     float64\n",
            " 5   Percent S3 verified FILTERED  38 non-null     float64\n",
            " 6   cat_1_adj                     83 non-null     float64\n",
            " 7   cat_2_adj                     33 non-null     float64\n",
            " 8   cat_3_adj                     59 non-null     float64\n",
            " 9   cat_4_adj                     21 non-null     float64\n",
            " 10  cat_5_adj                     64 non-null     float64\n",
            " 11  cat_6_adj                     82 non-null     float64\n",
            " 12  cat_7_adj                     50 non-null     float64\n",
            " 13  cat_8_adj                     9 non-null      float64\n",
            " 14  cat_9_adj                     13 non-null     float64\n",
            " 15  cat_10_adj                    0 non-null      float64\n",
            " 16  cat_11_adj                    8 non-null      float64\n",
            " 17  cat_12_adj                    9 non-null      float64\n",
            " 18  cat_13_adj                    17 non-null     float64\n",
            " 19  cat_14_adj                    0 non-null      float64\n",
            " 20  cat_15_adj                    0 non-null      float64\n",
            " 21  cat_16_adj                    2 non-null      float64\n",
            " 22  cat_17_adj                    2 non-null      float64\n",
            " 23  scope_1_2                     79 non-null     float64\n",
            "dtypes: float64(21), object(3)\n",
            "memory usage: 16.2+ KB\n"
          ]
        }
      ]
    },
    {
      "cell_type": "code",
      "source": [
        "# Creating dummy variables\n",
        "df5 = complete_df\n",
        "df5 = pd.get_dummies(df_financial, columns=['primary_activity', 'primary_sector', 'primary_industry'], prefix=['sector','activity','industry'])\n",
        "df5.head(5)"
      ],
      "metadata": {
        "colab": {
          "base_uri": "https://localhost:8080/",
          "height": 383
        },
        "id": "jZ1Z0gbhTjpG",
        "outputId": "1b553cac-81ed-4fdd-a253-0ef0736bfc81"
      },
      "execution_count": null,
      "outputs": [
        {
          "output_type": "execute_result",
          "data": {
            "text/plain": [
              "                     revenue  Percent S3 verified  \\\n",
              "account_number                                      \n",
              "9411            9.640943e+09            76.521739   \n",
              "44291           1.590064e+08                  NaN   \n",
              "44291           1.590064e+08                  NaN   \n",
              "252             5.024045e+10                  NaN   \n",
              "252             5.024045e+10                  NaN   \n",
              "\n",
              "                Percent S3 verified FILTERED  cat_1_adj  cat_2_adj  cat_3_adj  \\\n",
              "account_number                                                                  \n",
              "9411                                   100.0   0.000529   0.001857   0.002801   \n",
              "44291                                    NaN        NaN        NaN        NaN   \n",
              "44291                                    NaN        NaN        NaN        NaN   \n",
              "252                                      NaN        NaN        NaN        NaN   \n",
              "252                                      NaN        NaN        NaN        NaN   \n",
              "\n",
              "                cat_4_adj  cat_5_adj  cat_6_adj  cat_7_adj  ...  cat_15_adj  \\\n",
              "account_number                                              ...               \n",
              "9411                  NaN        NaN   0.006742        NaN  ...         NaN   \n",
              "44291                 NaN        NaN   0.035659        NaN  ...         NaN   \n",
              "44291                 NaN        NaN   0.035659        NaN  ...         NaN   \n",
              "252                   NaN        NaN   0.042575        NaN  ...         NaN   \n",
              "252                   NaN        NaN   0.042575        NaN  ...         NaN   \n",
              "\n",
              "                cat_16_adj  cat_17_adj  scope_1_2  sector_Asset managers  \\\n",
              "account_number                                                             \n",
              "9411                   NaN         NaN       88.0                      1   \n",
              "44291                  NaN         NaN     2583.4                      1   \n",
              "44291                  NaN         NaN       31.6                      1   \n",
              "252                    NaN         NaN     5095.0                      0   \n",
              "252                    NaN         NaN     4153.0                      0   \n",
              "\n",
              "                sector_Banks  sector_Insurance  sector_REIT  \\\n",
              "account_number                                                \n",
              "9411                       0                 0            0   \n",
              "44291                      0                 0            0   \n",
              "44291                      0                 0            0   \n",
              "252                        0                 1            0   \n",
              "252                        0                 1            0   \n",
              "\n",
              "                activity_Financial services  industry_Services  \n",
              "account_number                                                  \n",
              "9411                                      1                  1  \n",
              "44291                                     1                  1  \n",
              "44291                                     1                  1  \n",
              "252                                       1                  1  \n",
              "252                                       1                  1  \n",
              "\n",
              "[5 rows x 27 columns]"
            ],
            "text/html": [
              "\n",
              "  <div id=\"df-dd6269ea-5bda-4b08-8161-19a398229604\">\n",
              "    <div class=\"colab-df-container\">\n",
              "      <div>\n",
              "<style scoped>\n",
              "    .dataframe tbody tr th:only-of-type {\n",
              "        vertical-align: middle;\n",
              "    }\n",
              "\n",
              "    .dataframe tbody tr th {\n",
              "        vertical-align: top;\n",
              "    }\n",
              "\n",
              "    .dataframe thead th {\n",
              "        text-align: right;\n",
              "    }\n",
              "</style>\n",
              "<table border=\"1\" class=\"dataframe\">\n",
              "  <thead>\n",
              "    <tr style=\"text-align: right;\">\n",
              "      <th></th>\n",
              "      <th>revenue</th>\n",
              "      <th>Percent S3 verified</th>\n",
              "      <th>Percent S3 verified FILTERED</th>\n",
              "      <th>cat_1_adj</th>\n",
              "      <th>cat_2_adj</th>\n",
              "      <th>cat_3_adj</th>\n",
              "      <th>cat_4_adj</th>\n",
              "      <th>cat_5_adj</th>\n",
              "      <th>cat_6_adj</th>\n",
              "      <th>cat_7_adj</th>\n",
              "      <th>...</th>\n",
              "      <th>cat_15_adj</th>\n",
              "      <th>cat_16_adj</th>\n",
              "      <th>cat_17_adj</th>\n",
              "      <th>scope_1_2</th>\n",
              "      <th>sector_Asset managers</th>\n",
              "      <th>sector_Banks</th>\n",
              "      <th>sector_Insurance</th>\n",
              "      <th>sector_REIT</th>\n",
              "      <th>activity_Financial services</th>\n",
              "      <th>industry_Services</th>\n",
              "    </tr>\n",
              "    <tr>\n",
              "      <th>account_number</th>\n",
              "      <th></th>\n",
              "      <th></th>\n",
              "      <th></th>\n",
              "      <th></th>\n",
              "      <th></th>\n",
              "      <th></th>\n",
              "      <th></th>\n",
              "      <th></th>\n",
              "      <th></th>\n",
              "      <th></th>\n",
              "      <th></th>\n",
              "      <th></th>\n",
              "      <th></th>\n",
              "      <th></th>\n",
              "      <th></th>\n",
              "      <th></th>\n",
              "      <th></th>\n",
              "      <th></th>\n",
              "      <th></th>\n",
              "      <th></th>\n",
              "      <th></th>\n",
              "    </tr>\n",
              "  </thead>\n",
              "  <tbody>\n",
              "    <tr>\n",
              "      <th>9411</th>\n",
              "      <td>9.640943e+09</td>\n",
              "      <td>76.521739</td>\n",
              "      <td>100.0</td>\n",
              "      <td>0.000529</td>\n",
              "      <td>0.001857</td>\n",
              "      <td>0.002801</td>\n",
              "      <td>NaN</td>\n",
              "      <td>NaN</td>\n",
              "      <td>0.006742</td>\n",
              "      <td>NaN</td>\n",
              "      <td>...</td>\n",
              "      <td>NaN</td>\n",
              "      <td>NaN</td>\n",
              "      <td>NaN</td>\n",
              "      <td>88.0</td>\n",
              "      <td>1</td>\n",
              "      <td>0</td>\n",
              "      <td>0</td>\n",
              "      <td>0</td>\n",
              "      <td>1</td>\n",
              "      <td>1</td>\n",
              "    </tr>\n",
              "    <tr>\n",
              "      <th>44291</th>\n",
              "      <td>1.590064e+08</td>\n",
              "      <td>NaN</td>\n",
              "      <td>NaN</td>\n",
              "      <td>NaN</td>\n",
              "      <td>NaN</td>\n",
              "      <td>NaN</td>\n",
              "      <td>NaN</td>\n",
              "      <td>NaN</td>\n",
              "      <td>0.035659</td>\n",
              "      <td>NaN</td>\n",
              "      <td>...</td>\n",
              "      <td>NaN</td>\n",
              "      <td>NaN</td>\n",
              "      <td>NaN</td>\n",
              "      <td>2583.4</td>\n",
              "      <td>1</td>\n",
              "      <td>0</td>\n",
              "      <td>0</td>\n",
              "      <td>0</td>\n",
              "      <td>1</td>\n",
              "      <td>1</td>\n",
              "    </tr>\n",
              "    <tr>\n",
              "      <th>44291</th>\n",
              "      <td>1.590064e+08</td>\n",
              "      <td>NaN</td>\n",
              "      <td>NaN</td>\n",
              "      <td>NaN</td>\n",
              "      <td>NaN</td>\n",
              "      <td>NaN</td>\n",
              "      <td>NaN</td>\n",
              "      <td>NaN</td>\n",
              "      <td>0.035659</td>\n",
              "      <td>NaN</td>\n",
              "      <td>...</td>\n",
              "      <td>NaN</td>\n",
              "      <td>NaN</td>\n",
              "      <td>NaN</td>\n",
              "      <td>31.6</td>\n",
              "      <td>1</td>\n",
              "      <td>0</td>\n",
              "      <td>0</td>\n",
              "      <td>0</td>\n",
              "      <td>1</td>\n",
              "      <td>1</td>\n",
              "    </tr>\n",
              "    <tr>\n",
              "      <th>252</th>\n",
              "      <td>5.024045e+10</td>\n",
              "      <td>NaN</td>\n",
              "      <td>NaN</td>\n",
              "      <td>NaN</td>\n",
              "      <td>NaN</td>\n",
              "      <td>NaN</td>\n",
              "      <td>NaN</td>\n",
              "      <td>NaN</td>\n",
              "      <td>0.042575</td>\n",
              "      <td>NaN</td>\n",
              "      <td>...</td>\n",
              "      <td>NaN</td>\n",
              "      <td>NaN</td>\n",
              "      <td>NaN</td>\n",
              "      <td>5095.0</td>\n",
              "      <td>0</td>\n",
              "      <td>0</td>\n",
              "      <td>1</td>\n",
              "      <td>0</td>\n",
              "      <td>1</td>\n",
              "      <td>1</td>\n",
              "    </tr>\n",
              "    <tr>\n",
              "      <th>252</th>\n",
              "      <td>5.024045e+10</td>\n",
              "      <td>NaN</td>\n",
              "      <td>NaN</td>\n",
              "      <td>NaN</td>\n",
              "      <td>NaN</td>\n",
              "      <td>NaN</td>\n",
              "      <td>NaN</td>\n",
              "      <td>NaN</td>\n",
              "      <td>0.042575</td>\n",
              "      <td>NaN</td>\n",
              "      <td>...</td>\n",
              "      <td>NaN</td>\n",
              "      <td>NaN</td>\n",
              "      <td>NaN</td>\n",
              "      <td>4153.0</td>\n",
              "      <td>0</td>\n",
              "      <td>0</td>\n",
              "      <td>1</td>\n",
              "      <td>0</td>\n",
              "      <td>1</td>\n",
              "      <td>1</td>\n",
              "    </tr>\n",
              "  </tbody>\n",
              "</table>\n",
              "<p>5 rows × 27 columns</p>\n",
              "</div>\n",
              "      <button class=\"colab-df-convert\" onclick=\"convertToInteractive('df-dd6269ea-5bda-4b08-8161-19a398229604')\"\n",
              "              title=\"Convert this dataframe to an interactive table.\"\n",
              "              style=\"display:none;\">\n",
              "        \n",
              "  <svg xmlns=\"http://www.w3.org/2000/svg\" height=\"24px\"viewBox=\"0 0 24 24\"\n",
              "       width=\"24px\">\n",
              "    <path d=\"M0 0h24v24H0V0z\" fill=\"none\"/>\n",
              "    <path d=\"M18.56 5.44l.94 2.06.94-2.06 2.06-.94-2.06-.94-.94-2.06-.94 2.06-2.06.94zm-11 1L8.5 8.5l.94-2.06 2.06-.94-2.06-.94L8.5 2.5l-.94 2.06-2.06.94zm10 10l.94 2.06.94-2.06 2.06-.94-2.06-.94-.94-2.06-.94 2.06-2.06.94z\"/><path d=\"M17.41 7.96l-1.37-1.37c-.4-.4-.92-.59-1.43-.59-.52 0-1.04.2-1.43.59L10.3 9.45l-7.72 7.72c-.78.78-.78 2.05 0 2.83L4 21.41c.39.39.9.59 1.41.59.51 0 1.02-.2 1.41-.59l7.78-7.78 2.81-2.81c.8-.78.8-2.07 0-2.86zM5.41 20L4 18.59l7.72-7.72 1.47 1.35L5.41 20z\"/>\n",
              "  </svg>\n",
              "      </button>\n",
              "      \n",
              "  <style>\n",
              "    .colab-df-container {\n",
              "      display:flex;\n",
              "      flex-wrap:wrap;\n",
              "      gap: 12px;\n",
              "    }\n",
              "\n",
              "    .colab-df-convert {\n",
              "      background-color: #E8F0FE;\n",
              "      border: none;\n",
              "      border-radius: 50%;\n",
              "      cursor: pointer;\n",
              "      display: none;\n",
              "      fill: #1967D2;\n",
              "      height: 32px;\n",
              "      padding: 0 0 0 0;\n",
              "      width: 32px;\n",
              "    }\n",
              "\n",
              "    .colab-df-convert:hover {\n",
              "      background-color: #E2EBFA;\n",
              "      box-shadow: 0px 1px 2px rgba(60, 64, 67, 0.3), 0px 1px 3px 1px rgba(60, 64, 67, 0.15);\n",
              "      fill: #174EA6;\n",
              "    }\n",
              "\n",
              "    [theme=dark] .colab-df-convert {\n",
              "      background-color: #3B4455;\n",
              "      fill: #D2E3FC;\n",
              "    }\n",
              "\n",
              "    [theme=dark] .colab-df-convert:hover {\n",
              "      background-color: #434B5C;\n",
              "      box-shadow: 0px 1px 3px 1px rgba(0, 0, 0, 0.15);\n",
              "      filter: drop-shadow(0px 1px 2px rgba(0, 0, 0, 0.3));\n",
              "      fill: #FFFFFF;\n",
              "    }\n",
              "  </style>\n",
              "\n",
              "      <script>\n",
              "        const buttonEl =\n",
              "          document.querySelector('#df-dd6269ea-5bda-4b08-8161-19a398229604 button.colab-df-convert');\n",
              "        buttonEl.style.display =\n",
              "          google.colab.kernel.accessAllowed ? 'block' : 'none';\n",
              "\n",
              "        async function convertToInteractive(key) {\n",
              "          const element = document.querySelector('#df-dd6269ea-5bda-4b08-8161-19a398229604');\n",
              "          const dataTable =\n",
              "            await google.colab.kernel.invokeFunction('convertToInteractive',\n",
              "                                                     [key], {});\n",
              "          if (!dataTable) return;\n",
              "\n",
              "          const docLinkHtml = 'Like what you see? Visit the ' +\n",
              "            '<a target=\"_blank\" href=https://colab.research.google.com/notebooks/data_table.ipynb>data table notebook</a>'\n",
              "            + ' to learn more about interactive tables.';\n",
              "          element.innerHTML = '';\n",
              "          dataTable['output_type'] = 'display_data';\n",
              "          await google.colab.output.renderOutput(dataTable, element);\n",
              "          const docLink = document.createElement('div');\n",
              "          docLink.innerHTML = docLinkHtml;\n",
              "          element.appendChild(docLink);\n",
              "        }\n",
              "      </script>\n",
              "    </div>\n",
              "  </div>\n",
              "  "
            ]
          },
          "metadata": {},
          "execution_count": 12
        }
      ]
    },
    {
      "cell_type": "code",
      "source": [
        "df5 =df5.fillna(0)"
      ],
      "metadata": {
        "id": "KGYcKD_1Y3y1"
      },
      "execution_count": null,
      "outputs": []
    },
    {
      "cell_type": "code",
      "source": [
        "# Correlation matrix\n",
        "correlation_matrix = df5.corr()\n",
        "correlation_matrix['cat_1_adj']"
      ],
      "metadata": {
        "colab": {
          "base_uri": "https://localhost:8080/"
        },
        "id": "wluJmwDYWTbj",
        "outputId": "1fe61ede-c59c-471f-80c7-230eec7a0385"
      },
      "execution_count": null,
      "outputs": [
        {
          "output_type": "execute_result",
          "data": {
            "text/plain": [
              "revenue                        -0.140234\n",
              "Percent S3 verified            -0.025733\n",
              "Percent S3 verified FILTERED    0.041684\n",
              "cat_1_adj                       1.000000\n",
              "cat_2_adj                       0.540524\n",
              "cat_3_adj                       0.152432\n",
              "cat_4_adj                       0.006465\n",
              "cat_5_adj                       0.115845\n",
              "cat_6_adj                       0.091310\n",
              "cat_7_adj                       0.089036\n",
              "cat_8_adj                      -0.056954\n",
              "cat_9_adj                       0.173341\n",
              "cat_10_adj                           NaN\n",
              "cat_11_adj                      0.077991\n",
              "cat_12_adj                      0.536070\n",
              "cat_13_adj                      0.533744\n",
              "cat_14_adj                           NaN\n",
              "cat_15_adj                           NaN\n",
              "cat_16_adj                     -0.004033\n",
              "cat_17_adj                      0.174311\n",
              "scope_1_2                      -0.078896\n",
              "sector_Asset managers          -0.069624\n",
              "sector_Banks                   -0.167706\n",
              "sector_Insurance               -0.111908\n",
              "sector_REIT                     0.431668\n",
              "activity_Financial services          NaN\n",
              "industry_Services                    NaN\n",
              "Name: cat_1_adj, dtype: float64"
            ]
          },
          "metadata": {},
          "execution_count": 14
        }
      ]
    },
    {
      "cell_type": "code",
      "source": [
        "# Taking a look at the values in a boxplot\n",
        "sns.boxplot(df5.cat_1_adj, x='length')"
      ],
      "metadata": {
        "colab": {
          "base_uri": "https://localhost:8080/",
          "height": 354
        },
        "id": "emoBzqpOWTfE",
        "outputId": "1e0161f4-8720-4cdf-d44a-819446bb55d4"
      },
      "execution_count": null,
      "outputs": [
        {
          "output_type": "stream",
          "name": "stderr",
          "text": [
            "/usr/local/lib/python3.8/dist-packages/seaborn/_decorators.py:36: FutureWarning: Pass the following variable as a keyword arg: x. From version 0.12, the only valid positional argument will be `data`, and passing other arguments without an explicit keyword will result in an error or misinterpretation.\n",
            "  warnings.warn(\n"
          ]
        },
        {
          "output_type": "execute_result",
          "data": {
            "text/plain": [
              "<matplotlib.axes._subplots.AxesSubplot at 0x7fb613a7eac0>"
            ]
          },
          "metadata": {},
          "execution_count": 15
        },
        {
          "output_type": "display_data",
          "data": {
            "text/plain": [
              "<Figure size 432x288 with 1 Axes>"
            ],
            "image/png": "[encoded data removed]"
          },
          "metadata": {
            "needs_background": "light"
          }
        }
      ]
    },
    {
      "cell_type": "code",
      "source": [
        "#Looking at the distribution\n",
        "sns.displot(df5.cat_1_adj, kde=True)"
      ],
      "metadata": {
        "colab": {
          "base_uri": "https://localhost:8080/",
          "height": 387
        },
        "id": "L9zJjDNhWTiF",
        "outputId": "d98a48ba-0231-48f0-d74d-70edda006597"
      },
      "execution_count": null,
      "outputs": [
        {
          "output_type": "execute_result",
          "data": {
            "text/plain": [
              "<seaborn.axisgrid.FacetGrid at 0x7fb6139ea460>"
            ]
          },
          "metadata": {},
          "execution_count": 16
        },
        {
          "output_type": "display_data",
          "data": {
            "text/plain": [
              "<Figure size 360x360 with 1 Axes>"
            ],
            "image/png": "[encoded data removed]"
          },
          "metadata": {
            "needs_background": "light"
          }
        }
      ]
    },
    {
      "cell_type": "code",
      "source": [
        "# Looking at the probability\n",
        "import scipy.stats as stats\n",
        "res = stats.probplot(df5.cat_1_adj, plot=plt)"
      ],
      "metadata": {
        "colab": {
          "base_uri": "https://localhost:8080/",
          "height": 295
        },
        "id": "bsN0kAGZWTlA",
        "outputId": "c28a75f3-f0b9-456e-e57a-3e46e22a5b74"
      },
      "execution_count": null,
      "outputs": [
        {
          "output_type": "display_data",
          "data": {
            "text/plain": [
              "<Figure size 432x288 with 1 Axes>"
            ],
            "image/png": "[encoded data removed]"
          },
          "metadata": {
            "needs_background": "light"
          }
        }
      ]
    },
    {
      "cell_type": "code",
      "source": [
        "# Here is a shapiro test for distribution\n",
        "from scipy.stats import shapiro\n",
        "\n",
        "# normality test\n",
        "stat, p = shapiro(df5.cat_1_adj)\n",
        "print('Statistics=%.3f, p=%.3f' % (stat, p))\n",
        "\n",
        "# interpret\n",
        "alpha = 0.05\n",
        "if p > alpha:\n",
        "    print('Sample looks normally distributed (fail to reject H0)')\n",
        "else:\n",
        "    print('Sample does not look normally distributed (reject H0)')"
      ],
      "metadata": {
        "colab": {
          "base_uri": "https://localhost:8080/"
        },
        "outputId": "1f39c45e-efa3-4621-98d2-5f3a779973d9",
        "id": "0H1diiqS6yV3"
      },
      "execution_count": null,
      "outputs": [
        {
          "output_type": "stream",
          "name": "stdout",
          "text": [
            "Statistics=0.458, p=0.000\n",
            "Sample does not look normally distributed (reject H0)\n"
          ]
        }
      ]
    },
    {
      "cell_type": "code",
      "source": [
        "from scipy.stats import normaltest\n",
        "\n",
        "# normality test\n",
        "stat, p = normaltest(df5.cat_1_adj)\n",
        "print('Statistics=%.3f, p=%.3f' % (stat, p))\n",
        "\n",
        "# interpret\n",
        "alpha = 0.05\n",
        "if p > alpha:\n",
        "    print('Sample looks normally distributed (fail to reject H0)')\n",
        "else:\n",
        "    print('Sample does not look normally distributed (reject H0)')"
      ],
      "metadata": {
        "colab": {
          "base_uri": "https://localhost:8080/"
        },
        "outputId": "c9f883fc-6fd5-42d2-da37-7370f9758ee6",
        "id": "-Bqw3Hl36yV4"
      },
      "execution_count": null,
      "outputs": [
        {
          "output_type": "stream",
          "name": "stdout",
          "text": [
            "Statistics=110.540, p=0.000\n",
            "Sample does not look normally distributed (reject H0)\n"
          ]
        }
      ]
    },
    {
      "cell_type": "markdown",
      "source": [
        "# Logistic Regression looks like it may be a good fit for this data"
      ],
      "metadata": {
        "id": "3cib47gnXaC0"
      }
    },
    {
      "cell_type": "code",
      "source": [
        "# Loading in the packages\n",
        "from sklearn.linear_model import LogisticRegression\n",
        "from sklearn.metrics import classification_report, confusion_matrix"
      ],
      "metadata": {
        "id": "3LaBJKheWTn0"
      },
      "execution_count": null,
      "outputs": []
    },
    {
      "cell_type": "code",
      "source": [
        "df5.info()"
      ],
      "metadata": {
        "colab": {
          "base_uri": "https://localhost:8080/"
        },
        "id": "mQU2vS9TiOe4",
        "outputId": "8d26e7d2-45e1-47ff-9bce-5a02ccf2519e"
      },
      "execution_count": null,
      "outputs": [
        {
          "output_type": "stream",
          "name": "stdout",
          "text": [
            "<class 'pandas.core.frame.DataFrame'>\n",
            "Int64Index: 115 entries, 9411 to 15169\n",
            "Data columns (total 27 columns):\n",
            " #   Column                        Non-Null Count  Dtype  \n",
            "---  ------                        --------------  -----  \n",
            " 0   revenue                       115 non-null    float64\n",
            " 1   Percent S3 verified           115 non-null    float64\n",
            " 2   Percent S3 verified FILTERED  115 non-null    float64\n",
            " 3   cat_1_adj                     115 non-null    float64\n",
            " 4   cat_2_adj                     115 non-null    float64\n",
            " 5   cat_3_adj                     115 non-null    float64\n",
            " 6   cat_4_adj                     115 non-null    float64\n",
            " 7   cat_5_adj                     115 non-null    float64\n",
            " 8   cat_6_adj                     115 non-null    float64\n",
            " 9   cat_7_adj                     115 non-null    float64\n",
            " 10  cat_8_adj                     115 non-null    float64\n",
            " 11  cat_9_adj                     115 non-null    float64\n",
            " 12  cat_10_adj                    115 non-null    float64\n",
            " 13  cat_11_adj                    115 non-null    float64\n",
            " 14  cat_12_adj                    115 non-null    float64\n",
            " 15  cat_13_adj                    115 non-null    float64\n",
            " 16  cat_14_adj                    115 non-null    float64\n",
            " 17  cat_15_adj                    115 non-null    float64\n",
            " 18  cat_16_adj                    115 non-null    float64\n",
            " 19  cat_17_adj                    115 non-null    float64\n",
            " 20  scope_1_2                     115 non-null    float64\n",
            " 21  sector_Asset managers         115 non-null    uint8  \n",
            " 22  sector_Banks                  115 non-null    uint8  \n",
            " 23  sector_Insurance              115 non-null    uint8  \n",
            " 24  sector_REIT                   115 non-null    uint8  \n",
            " 25  activity_Financial services   115 non-null    uint8  \n",
            " 26  industry_Services             115 non-null    uint8  \n",
            "dtypes: float64(21), uint8(6)\n",
            "memory usage: 20.4 KB\n"
          ]
        }
      ]
    },
    {
      "cell_type": "code",
      "source": [
        "# I need to change the sectors to catagories and not int\n",
        "\n",
        "df5 = df5.drop(['activity_Financial services', 'industry_Services'], axis=1)\n",
        "\n",
        "cols = ['sector_Asset managers', 'sector_Banks', 'sector_Insurance', 'sector_REIT']\n",
        "df5[cols] = df5[cols].astype('category')\n",
        "\n",
        "df5.info()"
      ],
      "metadata": {
        "colab": {
          "base_uri": "https://localhost:8080/"
        },
        "id": "Gl90RQVeiU36",
        "outputId": "d71c2862-418c-4220-b7ac-0a74819182c9"
      },
      "execution_count": null,
      "outputs": [
        {
          "output_type": "stream",
          "name": "stdout",
          "text": [
            "<class 'pandas.core.frame.DataFrame'>\n",
            "Int64Index: 115 entries, 9411 to 15169\n",
            "Data columns (total 25 columns):\n",
            " #   Column                        Non-Null Count  Dtype   \n",
            "---  ------                        --------------  -----   \n",
            " 0   revenue                       115 non-null    float64 \n",
            " 1   Percent S3 verified           115 non-null    float64 \n",
            " 2   Percent S3 verified FILTERED  115 non-null    float64 \n",
            " 3   cat_1_adj                     115 non-null    float64 \n",
            " 4   cat_2_adj                     115 non-null    float64 \n",
            " 5   cat_3_adj                     115 non-null    float64 \n",
            " 6   cat_4_adj                     115 non-null    float64 \n",
            " 7   cat_5_adj                     115 non-null    float64 \n",
            " 8   cat_6_adj                     115 non-null    float64 \n",
            " 9   cat_7_adj                     115 non-null    float64 \n",
            " 10  cat_8_adj                     115 non-null    float64 \n",
            " 11  cat_9_adj                     115 non-null    float64 \n",
            " 12  cat_10_adj                    115 non-null    float64 \n",
            " 13  cat_11_adj                    115 non-null    float64 \n",
            " 14  cat_12_adj                    115 non-null    float64 \n",
            " 15  cat_13_adj                    115 non-null    float64 \n",
            " 16  cat_14_adj                    115 non-null    float64 \n",
            " 17  cat_15_adj                    115 non-null    float64 \n",
            " 18  cat_16_adj                    115 non-null    float64 \n",
            " 19  cat_17_adj                    115 non-null    float64 \n",
            " 20  scope_1_2                     115 non-null    float64 \n",
            " 21  sector_Asset managers         115 non-null    category\n",
            " 22  sector_Banks                  115 non-null    category\n",
            " 23  sector_Insurance              115 non-null    category\n",
            " 24  sector_REIT                   115 non-null    category\n",
            "dtypes: category(4), float64(21)\n",
            "memory usage: 20.7 KB\n"
          ]
        }
      ]
    },
    {
      "cell_type": "code",
      "source": [
        "# moving the target column to the last position\n",
        "cols = list(df5.columns.values)\n",
        "cols.pop(cols.index('cat_1_adj'))\n",
        "df5 = df5[cols+['cat_1_adj']]\n",
        "df5.head(2)"
      ],
      "metadata": {
        "colab": {
          "base_uri": "https://localhost:8080/",
          "height": 289
        },
        "id": "297nSHpFd5N9",
        "outputId": "06fdfad9-07ae-4f52-b047-7dcde7f45cde"
      },
      "execution_count": null,
      "outputs": [
        {
          "output_type": "execute_result",
          "data": {
            "text/plain": [
              "                     revenue  Percent S3 verified  \\\n",
              "account_number                                      \n",
              "9411            9.640943e+09            76.521739   \n",
              "44291           1.590064e+08             0.000000   \n",
              "\n",
              "                Percent S3 verified FILTERED  cat_2_adj  cat_3_adj  cat_4_adj  \\\n",
              "account_number                                                                  \n",
              "9411                                   100.0   0.001857   0.002801        0.0   \n",
              "44291                                    0.0   0.000000   0.000000        0.0   \n",
              "\n",
              "                cat_5_adj  cat_6_adj  cat_7_adj  cat_8_adj  ...  cat_14_adj  \\\n",
              "account_number                                              ...               \n",
              "9411                  0.0   0.006742        0.0        0.0  ...         0.0   \n",
              "44291                 0.0   0.035659        0.0        0.0  ...         0.0   \n",
              "\n",
              "                cat_15_adj  cat_16_adj  cat_17_adj  scope_1_2  \\\n",
              "account_number                                                  \n",
              "9411                   0.0         0.0         0.0       88.0   \n",
              "44291                  0.0         0.0         0.0     2583.4   \n",
              "\n",
              "                sector_Asset managers  sector_Banks  sector_Insurance  \\\n",
              "account_number                                                          \n",
              "9411                                1             0                 0   \n",
              "44291                               1             0                 0   \n",
              "\n",
              "                sector_REIT  cat_1_adj  \n",
              "account_number                          \n",
              "9411                      0   0.000529  \n",
              "44291                     0   0.000000  \n",
              "\n",
              "[2 rows x 25 columns]"
            ],
            "text/html": [
              "\n",
              "  <div id=\"df-61e7000c-3678-4f18-bc42-9a1e8c8b74a6\">\n",
              "    <div class=\"colab-df-container\">\n",
              "      <div>\n",
              "<style scoped>\n",
              "    .dataframe tbody tr th:only-of-type {\n",
              "        vertical-align: middle;\n",
              "    }\n",
              "\n",
              "    .dataframe tbody tr th {\n",
              "        vertical-align: top;\n",
              "    }\n",
              "\n",
              "    .dataframe thead th {\n",
              "        text-align: right;\n",
              "    }\n",
              "</style>\n",
              "<table border=\"1\" class=\"dataframe\">\n",
              "  <thead>\n",
              "    <tr style=\"text-align: right;\">\n",
              "      <th></th>\n",
              "      <th>revenue</th>\n",
              "      <th>Percent S3 verified</th>\n",
              "      <th>Percent S3 verified FILTERED</th>\n",
              "      <th>cat_2_adj</th>\n",
              "      <th>cat_3_adj</th>\n",
              "      <th>cat_4_adj</th>\n",
              "      <th>cat_5_adj</th>\n",
              "      <th>cat_6_adj</th>\n",
              "      <th>cat_7_adj</th>\n",
              "      <th>cat_8_adj</th>\n",
              "      <th>...</th>\n",
              "      <th>cat_14_adj</th>\n",
              "      <th>cat_15_adj</th>\n",
              "      <th>cat_16_adj</th>\n",
              "      <th>cat_17_adj</th>\n",
              "      <th>scope_1_2</th>\n",
              "      <th>sector_Asset managers</th>\n",
              "      <th>sector_Banks</th>\n",
              "      <th>sector_Insurance</th>\n",
              "      <th>sector_REIT</th>\n",
              "      <th>cat_1_adj</th>\n",
              "    </tr>\n",
              "    <tr>\n",
              "      <th>account_number</th>\n",
              "      <th></th>\n",
              "      <th></th>\n",
              "      <th></th>\n",
              "      <th></th>\n",
              "      <th></th>\n",
              "      <th></th>\n",
              "      <th></th>\n",
              "      <th></th>\n",
              "      <th></th>\n",
              "      <th></th>\n",
              "      <th></th>\n",
              "      <th></th>\n",
              "      <th></th>\n",
              "      <th></th>\n",
              "      <th></th>\n",
              "      <th></th>\n",
              "      <th></th>\n",
              "      <th></th>\n",
              "      <th></th>\n",
              "      <th></th>\n",
              "      <th></th>\n",
              "    </tr>\n",
              "  </thead>\n",
              "  <tbody>\n",
              "    <tr>\n",
              "      <th>9411</th>\n",
              "      <td>9.640943e+09</td>\n",
              "      <td>76.521739</td>\n",
              "      <td>100.0</td>\n",
              "      <td>0.001857</td>\n",
              "      <td>0.002801</td>\n",
              "      <td>0.0</td>\n",
              "      <td>0.0</td>\n",
              "      <td>0.006742</td>\n",
              "      <td>0.0</td>\n",
              "      <td>0.0</td>\n",
              "      <td>...</td>\n",
              "      <td>0.0</td>\n",
              "      <td>0.0</td>\n",
              "      <td>0.0</td>\n",
              "      <td>0.0</td>\n",
              "      <td>88.0</td>\n",
              "      <td>1</td>\n",
              "      <td>0</td>\n",
              "      <td>0</td>\n",
              "      <td>0</td>\n",
              "      <td>0.000529</td>\n",
              "    </tr>\n",
              "    <tr>\n",
              "      <th>44291</th>\n",
              "      <td>1.590064e+08</td>\n",
              "      <td>0.000000</td>\n",
              "      <td>0.0</td>\n",
              "      <td>0.000000</td>\n",
              "      <td>0.000000</td>\n",
              "      <td>0.0</td>\n",
              "      <td>0.0</td>\n",
              "      <td>0.035659</td>\n",
              "      <td>0.0</td>\n",
              "      <td>0.0</td>\n",
              "      <td>...</td>\n",
              "      <td>0.0</td>\n",
              "      <td>0.0</td>\n",
              "      <td>0.0</td>\n",
              "      <td>0.0</td>\n",
              "      <td>2583.4</td>\n",
              "      <td>1</td>\n",
              "      <td>0</td>\n",
              "      <td>0</td>\n",
              "      <td>0</td>\n",
              "      <td>0.000000</td>\n",
              "    </tr>\n",
              "  </tbody>\n",
              "</table>\n",
              "<p>2 rows × 25 columns</p>\n",
              "</div>\n",
              "      <button class=\"colab-df-convert\" onclick=\"convertToInteractive('df-61e7000c-3678-4f18-bc42-9a1e8c8b74a6')\"\n",
              "              title=\"Convert this dataframe to an interactive table.\"\n",
              "              style=\"display:none;\">\n",
              "        \n",
              "  <svg xmlns=\"http://www.w3.org/2000/svg\" height=\"24px\"viewBox=\"0 0 24 24\"\n",
              "       width=\"24px\">\n",
              "    <path d=\"M0 0h24v24H0V0z\" fill=\"none\"/>\n",
              "    <path d=\"M18.56 5.44l.94 2.06.94-2.06 2.06-.94-2.06-.94-.94-2.06-.94 2.06-2.06.94zm-11 1L8.5 8.5l.94-2.06 2.06-.94-2.06-.94L8.5 2.5l-.94 2.06-2.06.94zm10 10l.94 2.06.94-2.06 2.06-.94-2.06-.94-.94-2.06-.94 2.06-2.06.94z\"/><path d=\"M17.41 7.96l-1.37-1.37c-.4-.4-.92-.59-1.43-.59-.52 0-1.04.2-1.43.59L10.3 9.45l-7.72 7.72c-.78.78-.78 2.05 0 2.83L4 21.41c.39.39.9.59 1.41.59.51 0 1.02-.2 1.41-.59l7.78-7.78 2.81-2.81c.8-.78.8-2.07 0-2.86zM5.41 20L4 18.59l7.72-7.72 1.47 1.35L5.41 20z\"/>\n",
              "  </svg>\n",
              "      </button>\n",
              "      \n",
              "  <style>\n",
              "    .colab-df-container {\n",
              "      display:flex;\n",
              "      flex-wrap:wrap;\n",
              "      gap: 12px;\n",
              "    }\n",
              "\n",
              "    .colab-df-convert {\n",
              "      background-color: #E8F0FE;\n",
              "      border: none;\n",
              "      border-radius: 50%;\n",
              "      cursor: pointer;\n",
              "      display: none;\n",
              "      fill: #1967D2;\n",
              "      height: 32px;\n",
              "      padding: 0 0 0 0;\n",
              "      width: 32px;\n",
              "    }\n",
              "\n",
              "    .colab-df-convert:hover {\n",
              "      background-color: #E2EBFA;\n",
              "      box-shadow: 0px 1px 2px rgba(60, 64, 67, 0.3), 0px 1px 3px 1px rgba(60, 64, 67, 0.15);\n",
              "      fill: #174EA6;\n",
              "    }\n",
              "\n",
              "    [theme=dark] .colab-df-convert {\n",
              "      background-color: #3B4455;\n",
              "      fill: #D2E3FC;\n",
              "    }\n",
              "\n",
              "    [theme=dark] .colab-df-convert:hover {\n",
              "      background-color: #434B5C;\n",
              "      box-shadow: 0px 1px 3px 1px rgba(0, 0, 0, 0.15);\n",
              "      filter: drop-shadow(0px 1px 2px rgba(0, 0, 0, 0.3));\n",
              "      fill: #FFFFFF;\n",
              "    }\n",
              "  </style>\n",
              "\n",
              "      <script>\n",
              "        const buttonEl =\n",
              "          document.querySelector('#df-61e7000c-3678-4f18-bc42-9a1e8c8b74a6 button.colab-df-convert');\n",
              "        buttonEl.style.display =\n",
              "          google.colab.kernel.accessAllowed ? 'block' : 'none';\n",
              "\n",
              "        async function convertToInteractive(key) {\n",
              "          const element = document.querySelector('#df-61e7000c-3678-4f18-bc42-9a1e8c8b74a6');\n",
              "          const dataTable =\n",
              "            await google.colab.kernel.invokeFunction('convertToInteractive',\n",
              "                                                     [key], {});\n",
              "          if (!dataTable) return;\n",
              "\n",
              "          const docLinkHtml = 'Like what you see? Visit the ' +\n",
              "            '<a target=\"_blank\" href=https://colab.research.google.com/notebooks/data_table.ipynb>data table notebook</a>'\n",
              "            + ' to learn more about interactive tables.';\n",
              "          element.innerHTML = '';\n",
              "          dataTable['output_type'] = 'display_data';\n",
              "          await google.colab.output.renderOutput(dataTable, element);\n",
              "          const docLink = document.createElement('div');\n",
              "          docLink.innerHTML = docLinkHtml;\n",
              "          element.appendChild(docLink);\n",
              "        }\n",
              "      </script>\n",
              "    </div>\n",
              "  </div>\n",
              "  "
            ]
          },
          "metadata": {},
          "execution_count": 23
        }
      ]
    },
    {
      "cell_type": "code",
      "source": [
        "# Creating x and y variables\n",
        "x = df5.drop(\"cat_1_adj\", axis=1)\n",
        "X = x.values\n",
        "y = df5[\"cat_1_adj\"]\n",
        "Y = y.values"
      ],
      "metadata": {
        "id": "KCL1FN6FXsY0"
      },
      "execution_count": null,
      "outputs": []
    },
    {
      "cell_type": "code",
      "source": [
        "# creating a train and test group\n",
        "from sklearn.model_selection import train_test_split\n",
        "X_train, X_test, y_train, y_test = train_test_split(X, Y, test_size=0.2, random_state=42)"
      ],
      "metadata": {
        "id": "mKiUOW2xXscS"
      },
      "execution_count": null,
      "outputs": []
    },
    {
      "cell_type": "code",
      "source": [
        "# define and fit our model\n",
        "# sklearn\n",
        "from sklearn.neighbors import KNeighborsRegressor\n",
        "from sklearn.model_selection import train_test_split\n",
        "from sklearn.decomposition import PCA\n",
        "\n",
        "\n",
        "model = KNeighborsRegressor(n_neighbors=15, n_jobs=-1)\n",
        "model.fit(X_train, y_train)"
      ],
      "metadata": {
        "colab": {
          "base_uri": "https://localhost:8080/"
        },
        "id": "Hfo2TKGYbOQr",
        "outputId": "457f735b-8ef9-436a-b7b8-e5ea86394576"
      },
      "execution_count": null,
      "outputs": [
        {
          "output_type": "execute_result",
          "data": {
            "text/plain": [
              "KNeighborsRegressor(n_jobs=-1, n_neighbors=15)"
            ]
          },
          "metadata": {},
          "execution_count": 26
        }
      ]
    },
    {
      "cell_type": "code",
      "source": [
        "# gather the predictations that our model made for our test set\n",
        "preds = model.predict(X_test)\n",
        "\n",
        "# display the actuals and predictions for the test set\n",
        "print('Actuals for test data set')\n",
        "print(y_test)\n",
        "print('Predictions for test data set')\n",
        "print(preds)"
      ],
      "metadata": {
        "colab": {
          "base_uri": "https://localhost:8080/"
        },
        "id": "smFQ0LmDbOT2",
        "outputId": "fccc95fa-416d-4847-f6c0-16cac5cdea40"
      },
      "execution_count": null,
      "outputs": [
        {
          "output_type": "stream",
          "name": "stdout",
          "text": [
            "Actuals for test data set\n",
            "[8.89005099e+00 0.00000000e+00 0.00000000e+00 0.00000000e+00\n",
            " 3.80234135e-02 4.36434783e-02 0.00000000e+00 0.00000000e+00\n",
            " 7.03510653e-02 1.33376803e-02 3.09615143e+00 0.00000000e+00\n",
            " 4.55522548e+00 2.01476672e+01 3.11007010e-01 5.28993885e-04\n",
            " 1.22705576e+00 6.99977486e-02 8.14000577e-02 5.25207809e-02\n",
            " 4.16092557e+01 3.52397530e+01 1.33376803e-02]\n",
            "Predictions for test data set\n",
            "[ 2.13224823  7.79306745 10.95347918  6.64110852  3.07177534  3.07177534\n",
            "  6.64110852  6.51456305  1.37550487  1.07182317 11.84198155  4.20273022\n",
            "  6.714976    8.62986377  2.74846714  2.15338038  5.89497517  4.20273022\n",
            " 11.76294245  2.97687571  6.714976   21.4492821   1.07182317]\n"
          ]
        }
      ]
    },
    {
      "cell_type": "code",
      "source": [
        "#compare the two sets for 'success'\n",
        "differs = y_test - preds\n",
        "print('Differences between the two sets')\n",
        "print(differs)"
      ],
      "metadata": {
        "colab": {
          "base_uri": "https://localhost:8080/"
        },
        "id": "YIYNC5-YbOWi",
        "outputId": "b0c32958-81c0-459e-9498-b3357ce5111f"
      },
      "execution_count": null,
      "outputs": [
        {
          "output_type": "stream",
          "name": "stdout",
          "text": [
            "Differences between the two sets\n",
            "[  6.75780275  -7.79306745 -10.95347918  -6.64110852  -3.03375193\n",
            "  -3.02813187  -6.64110852  -6.51456305  -1.30515381  -1.05848549\n",
            "  -8.74583012  -4.20273022  -2.15975052  11.51780344  -2.43746013\n",
            "  -2.15285139  -4.66791941  -4.13273247 -11.68154239  -2.92435493\n",
            "  34.89427965  13.79047095  -1.05848549]\n"
          ]
        }
      ]
    },
    {
      "cell_type": "code",
      "source": [
        "from sklearn.metrics import r2_score\n",
        "\n",
        "print(r2_score(y_test,preds))"
      ],
      "metadata": {
        "colab": {
          "base_uri": "https://localhost:8080/"
        },
        "id": "XLYLNFS0dHwK",
        "outputId": "181ce716-1787-4dc1-e684-eae2bd0d2810"
      },
      "execution_count": null,
      "outputs": [
        {
          "output_type": "stream",
          "name": "stdout",
          "text": [
            "0.2396252535516018\n"
          ]
        }
      ]
    },
    {
      "cell_type": "code",
      "source": [],
      "metadata": {
        "id": "azZwh0rsdH6U"
      },
      "execution_count": null,
      "outputs": []
    },
    {
      "cell_type": "code",
      "source": [
        "cols = df5.columns\n",
        "target_col = 'cat_1_adj'\n",
        "feat_cols = [c for c in cols if c != target_col]\n",
        "\n",
        "\n",
        "array = df5.values\n",
        "\n",
        "X = array[:, 0:23]\n",
        "y = array[:, 24]"
      ],
      "metadata": {
        "id": "vQWqvPmIdH9i"
      },
      "execution_count": null,
      "outputs": []
    },
    {
      "cell_type": "code",
      "source": [
        "X_train, X_test, y_train, y_test = train_test_split(X, y, test_size=0.2, random_state=42)"
      ],
      "metadata": {
        "id": "2JvwBZyQdIA0"
      },
      "execution_count": null,
      "outputs": []
    },
    {
      "cell_type": "code",
      "source": [
        "scores = []\n",
        "print(f'Features: {feat_cols} \\nTarget: {target_col}')\n",
        "\n",
        "# remember the ending number for range is not inclusive\n",
        "for k in range(2, 20):\n",
        "    # output to let us know where we are\n",
        "    print(f'Evaluating {k} clusters')\n",
        "    \n",
        "    # n_jobs=-1 will use all processors on your system\n",
        "    model = KNeighborsRegressor(n_neighbors=k, n_jobs=-1)\n",
        "    model.fit(X_train, y_train)\n",
        "    scores.append(model.score(X_test, y_test))"
      ],
      "metadata": {
        "colab": {
          "base_uri": "https://localhost:8080/"
        },
        "id": "XOPk2fsse8Mt",
        "outputId": "dce4db20-64d0-4408-d880-3898c4bc7caf"
      },
      "execution_count": null,
      "outputs": [
        {
          "output_type": "stream",
          "name": "stdout",
          "text": [
            "Features: ['revenue', 'Percent S3 verified', 'Percent S3 verified FILTERED', 'cat_2_adj', 'cat_3_adj', 'cat_4_adj', 'cat_5_adj', 'cat_6_adj', 'cat_7_adj', 'cat_8_adj', 'cat_9_adj', 'cat_10_adj', 'cat_11_adj', 'cat_12_adj', 'cat_13_adj', 'cat_14_adj', 'cat_15_adj', 'cat_16_adj', 'cat_17_adj', 'scope_1_2', 'sector_Asset managers', 'sector_Banks', 'sector_Insurance', 'sector_REIT'] \n",
            "Target: cat_1_adj\n",
            "Evaluating 2 clusters\n",
            "Evaluating 3 clusters\n",
            "Evaluating 4 clusters\n",
            "Evaluating 5 clusters\n",
            "Evaluating 6 clusters\n",
            "Evaluating 7 clusters\n",
            "Evaluating 8 clusters\n",
            "Evaluating 9 clusters\n",
            "Evaluating 10 clusters\n",
            "Evaluating 11 clusters\n",
            "Evaluating 12 clusters\n",
            "Evaluating 13 clusters\n",
            "Evaluating 14 clusters\n",
            "Evaluating 15 clusters\n",
            "Evaluating 16 clusters\n",
            "Evaluating 17 clusters\n",
            "Evaluating 18 clusters\n",
            "Evaluating 19 clusters\n"
          ]
        }
      ]
    },
    {
      "cell_type": "code",
      "source": [
        "# display the resutls\n",
        "plt.plot(range(2, 20), scores)\n",
        "plt.scatter(range(2, 20), scores)\n",
        "plt.grid()\n",
        "_ =plt.xticks(range(2, 20))"
      ],
      "metadata": {
        "colab": {
          "base_uri": "https://localhost:8080/",
          "height": 265
        },
        "id": "9xYrUpSPe8QK",
        "outputId": "f47473a0-5bdb-44a0-c4de-2a254d3df2a5"
      },
      "execution_count": null,
      "outputs": [
        {
          "output_type": "display_data",
          "data": {
            "text/plain": [
              "<Figure size 432x288 with 1 Axes>"
            ],
            "image/png": "[encoded data removed]"
          },
          "metadata": {
            "needs_background": "light"
          }
        }
      ]
    },
    {
      "cell_type": "markdown",
      "source": [
        "#K-Fold Cross-Validation"
      ],
      "metadata": {
        "id": "9WcLUAioeiD1"
      }
    },
    {
      "cell_type": "code",
      "source": [
        "from sklearn.preprocessing import StandardScaler\n",
        "from sklearn.model_selection import train_test_split\n",
        "from sklearn.model_selection import KFold\n",
        "from sklearn.model_selection import cross_val_score\n",
        "from sklearn.model_selection import GridSearchCV\n",
        "from sklearn.linear_model import LinearRegression\n",
        "from sklearn.linear_model import Lasso\n",
        "from sklearn.linear_model import ElasticNet\n",
        "from sklearn.tree import DecisionTreeRegressor\n",
        "from sklearn.neighbors import KNeighborsRegressor\n",
        "from sklearn.svm import SVR\n",
        "from sklearn.pipeline import Pipeline\n",
        "from sklearn.ensemble import RandomForestRegressor\n",
        "from sklearn.ensemble import GradientBoostingRegressor\n",
        "from sklearn.ensemble import ExtraTreesRegressor\n",
        "from sklearn.ensemble import AdaBoostRegressor\n",
        "from sklearn.metrics import mean_squared_error\n",
        "\n",
        "from matplotlib import pyplot"
      ],
      "metadata": {
        "id": "r9ilY27CdIDz"
      },
      "execution_count": null,
      "outputs": []
    },
    {
      "cell_type": "code",
      "source": [
        "# Spot Check Algorithms\n",
        "models = []\n",
        "models.append(('LR', LinearRegression()))\n",
        "models.append(('LASSO', Lasso()))\n",
        "models.append(('EN', ElasticNet()))\n",
        "models.append(('KNN', KNeighborsRegressor()))\n",
        "models.append(('CART', DecisionTreeRegressor()))"
      ],
      "metadata": {
        "id": "8fS_k7KjdIG3"
      },
      "execution_count": null,
      "outputs": []
    },
    {
      "cell_type": "code",
      "source": [
        "# evaluate each model in turn\n",
        "seed = 42\n",
        "num_folds = 8\n",
        "scoring = 'neg_mean_squared_error'"
      ],
      "metadata": {
        "id": "IITbAkqQeopv"
      },
      "execution_count": null,
      "outputs": []
    },
    {
      "cell_type": "code",
      "source": [
        "results = []\n",
        "names = []\n",
        "for name, model in models:\n",
        "    kfold = KFold(n_splits=num_folds, random_state=seed, shuffle=True)\n",
        "    cv_results = cross_val_score(model, X_train, y_train, cv=kfold, scoring=scoring)\n",
        "    results.append(cv_results)\n",
        "    names.append(name)\n",
        "    msg = \"%s: %f (%f)\" % (name, cv_results.mean(), cv_results.std())\n",
        "    print(msg)"
      ],
      "metadata": {
        "colab": {
          "base_uri": "https://localhost:8080/"
        },
        "id": "Kf1Q6Vs0eos9",
        "outputId": "8c550495-7f7f-44c0-8d60-d6276a6ec5a4"
      },
      "execution_count": null,
      "outputs": [
        {
          "output_type": "stream",
          "name": "stdout",
          "text": [
            "LR: -170.935198 (153.295028)\n",
            "LASSO: -255.432941 (192.174707)\n",
            "EN: -264.803906 (205.109920)\n",
            "KNN: -432.501571 (243.237115)\n",
            "CART: -690.162764 (878.726493)\n"
          ]
        }
      ]
    },
    {
      "cell_type": "code",
      "source": [
        "# Compare Algorithms\n",
        "fig = pyplot.figure()\n",
        "fig.suptitle('Algorithm Comparison')\n",
        "ax = fig.add_subplot(111)\n",
        "pyplot.boxplot(results)\n",
        "ax.set_xticklabels(names)\n",
        "pyplot.show()"
      ],
      "metadata": {
        "colab": {
          "base_uri": "https://localhost:8080/",
          "height": 294
        },
        "id": "ew1614AkeowG",
        "outputId": "bae4947b-4327-4e43-91b5-a61318ec9175"
      },
      "execution_count": null,
      "outputs": [
        {
          "output_type": "display_data",
          "data": {
            "text/plain": [
              "<Figure size 432x288 with 1 Axes>"
            ],
            "image/png": "[encoded data removed]"
          },
          "metadata": {
            "needs_background": "light"
          }
        }
      ]
    },
    {
      "cell_type": "markdown",
      "source": [
        "# Scaling the Data"
      ],
      "metadata": {
        "id": "KSdyjR9DfRU_"
      }
    },
    {
      "cell_type": "code",
      "source": [
        "# Standardize the dataset\n",
        "pipelines = []\n",
        "pipelines.append(('ScaledLR', Pipeline([('Scaler', StandardScaler()),('LR', LinearRegression())])))\n",
        "pipelines.append(('ScaledLASSO', Pipeline([('Scaler', StandardScaler()),('LASSO', Lasso())])))\n",
        "pipelines.append(('ScaledEN', Pipeline([('Scaler', StandardScaler()),('EN', ElasticNet())])))\n",
        "pipelines.append(('ScaledKNN', Pipeline([('Scaler', StandardScaler()),('KNN', KNeighborsRegressor())])))\n",
        "pipelines.append(('ScaledCART', Pipeline([('Scaler', StandardScaler()),('CART', DecisionTreeRegressor())])))"
      ],
      "metadata": {
        "id": "GYFL82M4eozM"
      },
      "execution_count": null,
      "outputs": []
    },
    {
      "cell_type": "code",
      "source": [
        "results = []\n",
        "names = []\n",
        "for name, model in pipelines:\n",
        "    kfold = KFold(n_splits=num_folds, random_state=seed, shuffle=True)\n",
        "    cv_results = cross_val_score(model, X_train, y_train, cv=kfold, scoring=scoring)\n",
        "    results.append(cv_results)\n",
        "    names.append(name)\n",
        "    msg = \"%s: %f (%f)\" % (name, cv_results.mean(), cv_results.std())\n",
        "    print(msg)"
      ],
      "metadata": {
        "colab": {
          "base_uri": "https://localhost:8080/"
        },
        "id": "Pu7lyFa1eo2P",
        "outputId": "2a4e6dda-99d0-4fa2-b36c-0a3e06e90e33"
      },
      "execution_count": null,
      "outputs": [
        {
          "output_type": "stream",
          "name": "stdout",
          "text": [
            "ScaledLR: -170.935198 (153.295028)\n",
            "ScaledLASSO: -239.723518 (220.558583)\n",
            "ScaledEN: -225.085057 (204.092584)\n",
            "ScaledKNN: -334.730564 (256.568282)\n",
            "ScaledCART: -514.263528 (609.612683)\n"
          ]
        }
      ]
    },
    {
      "cell_type": "code",
      "source": [
        "# Compare Algorithms\n",
        "fig = pyplot.figure()\n",
        "fig.suptitle('Scaled Algorithm Comparison')\n",
        "ax = fig.add_subplot(111)\n",
        "pyplot.boxplot(results)\n",
        "ax.set_xticklabels(names)\n",
        "pyplot.show()"
      ],
      "metadata": {
        "colab": {
          "base_uri": "https://localhost:8080/",
          "height": 294
        },
        "id": "pgmeJQZXeo5F",
        "outputId": "bdaf89ec-1863-489d-b9f2-04ba0e2ced74"
      },
      "execution_count": null,
      "outputs": [
        {
          "output_type": "display_data",
          "data": {
            "text/plain": [
              "<Figure size 432x288 with 1 Axes>"
            ],
            "image/png": "[encoded data removed]"
          },
          "metadata": {
            "needs_background": "light"
          }
        }
      ]
    },
    {
      "cell_type": "markdown",
      "source": [
        "# Taking a look at some more models"
      ],
      "metadata": {
        "id": "UwmwAegDfeFx"
      }
    },
    {
      "cell_type": "code",
      "source": [
        "# ensembles\n",
        "ensembles = []\n",
        "ensembles.append(('ScaledAB', Pipeline([('Scaler', StandardScaler()),('AB', AdaBoostRegressor())])))\n",
        "ensembles.append(('ScaledGBM', Pipeline([('Scaler', StandardScaler()),('GBM', GradientBoostingRegressor())])))\n",
        "ensembles.append(('ScaledRF', Pipeline([('Scaler', StandardScaler()),('RF', RandomForestRegressor(n_estimators=10))])))\n",
        "ensembles.append(('ScaledET', Pipeline([('Scaler', StandardScaler()),('ET', ExtraTreesRegressor(n_estimators=10))])))"
      ],
      "metadata": {
        "id": "p8fgORFMffGH"
      },
      "execution_count": null,
      "outputs": []
    },
    {
      "cell_type": "code",
      "source": [
        "results = []\n",
        "names = []\n",
        "for name, model in ensembles:\n",
        "    kfold = KFold(n_splits=num_folds, random_state=seed, shuffle=True)\n",
        "    cv_results = cross_val_score(model, X_train, y_train, cv=kfold, scoring=scoring)\n",
        "    results.append(cv_results)\n",
        "    names.append(name)\n",
        "    msg = \"%s: %f (%f)\" % (name, cv_results.mean(), cv_results.std())\n",
        "    print(msg)"
      ],
      "metadata": {
        "colab": {
          "base_uri": "https://localhost:8080/"
        },
        "id": "q39cKsdiffPv",
        "outputId": "2b6b1464-c5d3-490e-b4b4-afbe75a7aa42"
      },
      "execution_count": null,
      "outputs": [
        {
          "output_type": "stream",
          "name": "stdout",
          "text": [
            "ScaledAB: -277.658088 (291.419931)\n",
            "ScaledGBM: -507.920211 (566.039546)\n",
            "ScaledRF: -407.727952 (367.857581)\n",
            "ScaledET: -270.789088 (216.633686)\n"
          ]
        }
      ]
    },
    {
      "cell_type": "code",
      "source": [
        "# Compare Algorithms\n",
        "fig = pyplot.figure()\n",
        "fig.suptitle('Scaled Ensemble Algorithm Comparison')\n",
        "ax = fig.add_subplot(111)\n",
        "pyplot.boxplot(results)\n",
        "ax.set_xticklabels(names)\n",
        "pyplot.show()"
      ],
      "metadata": {
        "colab": {
          "base_uri": "https://localhost:8080/",
          "height": 294
        },
        "id": "4FQ4n_VhffTS",
        "outputId": "7b4aabb7-4613-4ef1-f5f2-e31922a53b8b"
      },
      "execution_count": null,
      "outputs": [
        {
          "output_type": "display_data",
          "data": {
            "text/plain": [
              "<Figure size 432x288 with 1 Axes>"
            ],
            "image/png": "[encoded data removed]"
          },
          "metadata": {
            "needs_background": "light"
          }
        }
      ]
    },
    {
      "cell_type": "code",
      "source": [
        "! pip install h2o"
      ],
      "metadata": {
        "colab": {
          "base_uri": "https://localhost:8080/"
        },
        "id": "kPP1PEuegAa8",
        "outputId": "963e2255-8eb9-4a95-ca66-ba2f9bc089c0"
      },
      "execution_count": null,
      "outputs": [
        {
          "output_type": "stream",
          "name": "stdout",
          "text": [
            "Looking in indexes: https://pypi.org/simple, https://us-python.pkg.dev/colab-wheels/public/simple/\n",
            "Collecting h2o\n",
            "  Downloading h2o-3.40.0.1-py2.py3-none-any.whl (177.7 MB)\n",
            "\u001b[2K     \u001b[90m━━━━━━━━━━━━━━━━━━━━━━━━━━━━━━━━━━━━━━━\u001b[0m \u001b[32m177.7/177.7 MB\u001b[0m \u001b[31m3.6 MB/s\u001b[0m eta \u001b[36m0:00:00\u001b[0m\n",
            "\u001b[?25hRequirement already satisfied: tabulate in /usr/local/lib/python3.8/dist-packages (from h2o) (0.8.10)\n",
            "Requirement already satisfied: requests in /usr/local/lib/python3.8/dist-packages (from h2o) (2.25.1)\n",
            "Requirement already satisfied: future in /usr/local/lib/python3.8/dist-packages (from h2o) (0.16.0)\n",
            "Requirement already satisfied: idna<3,>=2.5 in /usr/local/lib/python3.8/dist-packages (from requests->h2o) (2.10)\n",
            "Requirement already satisfied: urllib3<1.27,>=1.21.1 in /usr/local/lib/python3.8/dist-packages (from requests->h2o) (1.24.3)\n",
            "Requirement already satisfied: chardet<5,>=3.0.2 in /usr/local/lib/python3.8/dist-packages (from requests->h2o) (4.0.0)\n",
            "Requirement already satisfied: certifi>=2017.4.17 in /usr/local/lib/python3.8/dist-packages (from requests->h2o) (2022.12.7)\n",
            "Installing collected packages: h2o\n",
            "Successfully installed h2o-3.40.0.1\n"
          ]
        }
      ]
    },
    {
      "cell_type": "code",
      "source": [
        "import h2o\n",
        "\n",
        "h2o.init()"
      ],
      "metadata": {
        "colab": {
          "base_uri": "https://localhost:8080/",
          "height": 530
        },
        "id": "Gx7c91d-ffWn",
        "outputId": "6aca47d9-ad8a-4fb0-9d05-7ffaf81e66c8"
      },
      "execution_count": null,
      "outputs": [
        {
          "output_type": "stream",
          "name": "stdout",
          "text": [
            "Checking whether there is an H2O instance running at http://localhost:54321..... not found.\n",
            "Attempting to start a local H2O server...\n",
            "  Java Version: openjdk version \"11.0.17\" 2022-10-18; OpenJDK Runtime Environment (build 11.0.17+8-post-Ubuntu-1ubuntu220.04); OpenJDK 64-Bit Server VM (build 11.0.17+8-post-Ubuntu-1ubuntu220.04, mixed mode, sharing)\n",
            "  Starting server from /usr/local/lib/python3.8/dist-packages/h2o/backend/bin/h2o.jar\n",
            "  Ice root: /tmp/tmp2_qhuc90\n",
            "  JVM stdout: /tmp/tmp2_qhuc90/h2o_unknownUser_started_from_python.out\n",
            "  JVM stderr: /tmp/tmp2_qhuc90/h2o_unknownUser_started_from_python.err\n",
            "  Server is running at http://127.0.0.1:54321\n",
            "Connecting to H2O server at http://127.0.0.1:54321 ... successful.\n"
          ]
        },
        {
          "output_type": "display_data",
          "data": {
            "text/plain": [
              "--------------------------  ----------------------------------\n",
              "H2O_cluster_uptime:         06 secs\n",
              "H2O_cluster_timezone:       Etc/UTC\n",
              "H2O_data_parsing_timezone:  UTC\n",
              "H2O_cluster_version:        3.40.0.1\n",
              "H2O_cluster_version_age:    12 days\n",
              "H2O_cluster_name:           H2O_from_python_unknownUser_ygspda\n",
              "H2O_cluster_total_nodes:    1\n",
              "H2O_cluster_free_memory:    3.172 Gb\n",
              "H2O_cluster_total_cores:    2\n",
              "H2O_cluster_allowed_cores:  2\n",
              "H2O_cluster_status:         locked, healthy\n",
              "H2O_connection_url:         http://127.0.0.1:54321\n",
              "H2O_connection_proxy:       {\"http\": null, \"https\": null}\n",
              "H2O_internal_security:      False\n",
              "Python_version:             3.8.10 final\n",
              "--------------------------  ----------------------------------"
            ],
            "text/html": [
              "\n",
              "<style>\n",
              "\n",
              "#h2o-table-1.h2o-container {\n",
              "  overflow-x: auto;\n",
              "}\n",
              "#h2o-table-1 .h2o-table {\n",
              "  /* width: 100%; */\n",
              "  margin-top: 1em;\n",
              "  margin-bottom: 1em;\n",
              "}\n",
              "#h2o-table-1 .h2o-table caption {\n",
              "  white-space: nowrap;\n",
              "  caption-side: top;\n",
              "  text-align: left;\n",
              "  /* margin-left: 1em; */\n",
              "  margin: 0;\n",
              "  font-size: larger;\n",
              "}\n",
              "#h2o-table-1 .h2o-table thead {\n",
              "  white-space: nowrap; \n",
              "  position: sticky;\n",
              "  top: 0;\n",
              "  box-shadow: 0 -1px inset;\n",
              "}\n",
              "#h2o-table-1 .h2o-table tbody {\n",
              "  overflow: auto;\n",
              "}\n",
              "#h2o-table-1 .h2o-table th,\n",
              "#h2o-table-1 .h2o-table td {\n",
              "  text-align: right;\n",
              "  /* border: 1px solid; */\n",
              "}\n",
              "#h2o-table-1 .h2o-table tr:nth-child(even) {\n",
              "  /* background: #F5F5F5 */\n",
              "}\n",
              "\n",
              "</style>      \n",
              "<div id=\"h2o-table-1\" class=\"h2o-container\">\n",
              "  <table class=\"h2o-table\">\n",
              "    <caption></caption>\n",
              "    <thead></thead>\n",
              "    <tbody><tr><td>H2O_cluster_uptime:</td>\n",
              "<td>06 secs</td></tr>\n",
              "<tr><td>H2O_cluster_timezone:</td>\n",
              "<td>Etc/UTC</td></tr>\n",
              "<tr><td>H2O_data_parsing_timezone:</td>\n",
              "<td>UTC</td></tr>\n",
              "<tr><td>H2O_cluster_version:</td>\n",
              "<td>3.40.0.1</td></tr>\n",
              "<tr><td>H2O_cluster_version_age:</td>\n",
              "<td>12 days</td></tr>\n",
              "<tr><td>H2O_cluster_name:</td>\n",
              "<td>H2O_from_python_unknownUser_ygspda</td></tr>\n",
              "<tr><td>H2O_cluster_total_nodes:</td>\n",
              "<td>1</td></tr>\n",
              "<tr><td>H2O_cluster_free_memory:</td>\n",
              "<td>3.172 Gb</td></tr>\n",
              "<tr><td>H2O_cluster_total_cores:</td>\n",
              "<td>2</td></tr>\n",
              "<tr><td>H2O_cluster_allowed_cores:</td>\n",
              "<td>2</td></tr>\n",
              "<tr><td>H2O_cluster_status:</td>\n",
              "<td>locked, healthy</td></tr>\n",
              "<tr><td>H2O_connection_url:</td>\n",
              "<td>http://127.0.0.1:54321</td></tr>\n",
              "<tr><td>H2O_connection_proxy:</td>\n",
              "<td>{\"http\": null, \"https\": null}</td></tr>\n",
              "<tr><td>H2O_internal_security:</td>\n",
              "<td>False</td></tr>\n",
              "<tr><td>Python_version:</td>\n",
              "<td>3.8.10 final</td></tr></tbody>\n",
              "  </table>\n",
              "</div>\n"
            ]
          },
          "metadata": {}
        }
      ]
    },
    {
      "cell_type": "code",
      "source": [
        "hf = h2o.H2OFrame(df5)"
      ],
      "metadata": {
        "colab": {
          "base_uri": "https://localhost:8080/"
        },
        "id": "5mLj6JRmffZ7",
        "outputId": "f0f2d630-484a-4644-eca3-f006f25cee0f"
      },
      "execution_count": null,
      "outputs": [
        {
          "output_type": "stream",
          "name": "stdout",
          "text": [
            "Parse progress: |████████████████████████████████████████████████████████████████| (done) 100%\n"
          ]
        }
      ]
    },
    {
      "cell_type": "code",
      "source": [
        "hf"
      ],
      "metadata": {
        "colab": {
          "base_uri": "https://localhost:8080/",
          "height": 461
        },
        "id": "dGV3019offcs",
        "outputId": "316c26be-9be6-411c-9db4-63f64b643396"
      },
      "execution_count": null,
      "outputs": [
        {
          "output_type": "execute_result",
          "data": {
            "text/plain": [
              "    revenue    Percent S3 verified    Percent S3 verified FILTERED    cat_2_adj    cat_3_adj    cat_4_adj    cat_5_adj    cat_6_adj    cat_7_adj    cat_8_adj    cat_9_adj    cat_10_adj    cat_11_adj    cat_12_adj    cat_13_adj    cat_14_adj    cat_15_adj    cat_16_adj    cat_17_adj         scope_1_2    sector_Asset managers    sector_Banks    sector_Insurance    sector_REIT    cat_1_adj\n",
              "-----------  ---------------------  ------------------------------  -----------  -----------  -----------  -----------  -----------  -----------  -----------  -----------  ------------  ------------  ------------  ------------  ------------  ------------  ------------  ------------  ----------------  -----------------------  --------------  ------------------  -------------  -----------\n",
              "9.64094e+09                76.5217                             100   0.00185666   0.00280056            0    0           0.00674208            0            0     0                    0             0             0             0             0             0             0             0      88                                  1               0                   0              0  0.000528994\n",
              "1.59006e+08                 0                                    0   0            0                     0    0           0.0356589             0            0     0                    0             0             0             0             0             0             0             0    2583.4                                1               0                   0              0  0\n",
              "1.59006e+08                 0                                    0   0            0                     0    0           0.0356589             0            0     0                    0             0             0             0             0             0             0             0      31.6                                1               0                   0              0  0\n",
              "5.02404e+10                 0                                    0   0            0                     0    0           0.0425753             0            0     0                    0             0             0             0             0             0             0             0    5095                                  0               0                   1              0  0\n",
              "5.02404e+10                 0                                    0   0            0                     0    0           0.0425753             0            0     0                    0             0             0             0             0             0             0             0    4153                                  0               0                   1              0  0\n",
              "7.17876e+10               100                                  100   0            0                     0    0.0233048   0.0542015             0            0     0                    0             0             0             0             0             0             0             0   66395                                  0               0                   1              0  0.0184572\n",
              "2.34315e+10               100                                  100   0            0                     0    0.0107548   0.0480977             0            0     0                    0             0             0             0             0             0             0             0  195777                                  0               1                   0              0  0.0488659\n",
              "1.2109e+10                  0                                    0   0            0                     0    0           0.114295              0            0     0                    0             0             0             0             0             0             0             0   52169                                  1               0                   0              0  0\n",
              "2.26944e+10                34.5718                               0   0            0.0869819             0    0           0.048382              0            0     0                    0             0             0             0             0             0             0             0   11845                                  0               0                   1              0  0.00458263\n",
              "2.06058e+10                 0                                    0   0            0                     0    0           0                     0            0     0.167768             0             0             0             0             0             0             0             0       1.25101e+06                        0               1                   0              0  0\n",
              "[115 rows x 25 columns]\n"
            ],
            "text/html": [
              "<table class='dataframe'>\n",
              "<thead>\n",
              "<tr><th style=\"text-align: right;\">    revenue</th><th style=\"text-align: right;\">  Percent S3 verified</th><th style=\"text-align: right;\">  Percent S3 verified FILTERED</th><th style=\"text-align: right;\">  cat_2_adj</th><th style=\"text-align: right;\">  cat_3_adj</th><th style=\"text-align: right;\">  cat_4_adj</th><th style=\"text-align: right;\">  cat_5_adj</th><th style=\"text-align: right;\">  cat_6_adj</th><th style=\"text-align: right;\">  cat_7_adj</th><th style=\"text-align: right;\">  cat_8_adj</th><th style=\"text-align: right;\">  cat_9_adj</th><th style=\"text-align: right;\">  cat_10_adj</th><th style=\"text-align: right;\">  cat_11_adj</th><th style=\"text-align: right;\">  cat_12_adj</th><th style=\"text-align: right;\">  cat_13_adj</th><th style=\"text-align: right;\">  cat_14_adj</th><th style=\"text-align: right;\">  cat_15_adj</th><th style=\"text-align: right;\">  cat_16_adj</th><th style=\"text-align: right;\">  cat_17_adj</th><th style=\"text-align: right;\">       scope_1_2</th><th style=\"text-align: right;\">  sector_Asset managers</th><th style=\"text-align: right;\">  sector_Banks</th><th style=\"text-align: right;\">  sector_Insurance</th><th style=\"text-align: right;\">  sector_REIT</th><th style=\"text-align: right;\">  cat_1_adj</th></tr>\n",
              "</thead>\n",
              "<tbody>\n",
              "<tr><td style=\"text-align: right;\">9.64094e+09</td><td style=\"text-align: right;\">              76.5217</td><td style=\"text-align: right;\">                           100</td><td style=\"text-align: right;\"> 0.00185666</td><td style=\"text-align: right;\"> 0.00280056</td><td style=\"text-align: right;\">          0</td><td style=\"text-align: right;\">  0        </td><td style=\"text-align: right;\"> 0.00674208</td><td style=\"text-align: right;\">          0</td><td style=\"text-align: right;\">          0</td><td style=\"text-align: right;\">   0       </td><td style=\"text-align: right;\">           0</td><td style=\"text-align: right;\">           0</td><td style=\"text-align: right;\">           0</td><td style=\"text-align: right;\">           0</td><td style=\"text-align: right;\">           0</td><td style=\"text-align: right;\">           0</td><td style=\"text-align: right;\">           0</td><td style=\"text-align: right;\">           0</td><td style=\"text-align: right;\">    88          </td><td style=\"text-align: right;\">                      1</td><td style=\"text-align: right;\">             0</td><td style=\"text-align: right;\">                 0</td><td style=\"text-align: right;\">            0</td><td style=\"text-align: right;\">0.000528994</td></tr>\n",
              "<tr><td style=\"text-align: right;\">1.59006e+08</td><td style=\"text-align: right;\">               0     </td><td style=\"text-align: right;\">                             0</td><td style=\"text-align: right;\"> 0         </td><td style=\"text-align: right;\"> 0         </td><td style=\"text-align: right;\">          0</td><td style=\"text-align: right;\">  0        </td><td style=\"text-align: right;\"> 0.0356589 </td><td style=\"text-align: right;\">          0</td><td style=\"text-align: right;\">          0</td><td style=\"text-align: right;\">   0       </td><td style=\"text-align: right;\">           0</td><td style=\"text-align: right;\">           0</td><td style=\"text-align: right;\">           0</td><td style=\"text-align: right;\">           0</td><td style=\"text-align: right;\">           0</td><td style=\"text-align: right;\">           0</td><td style=\"text-align: right;\">           0</td><td style=\"text-align: right;\">           0</td><td style=\"text-align: right;\">  2583.4        </td><td style=\"text-align: right;\">                      1</td><td style=\"text-align: right;\">             0</td><td style=\"text-align: right;\">                 0</td><td style=\"text-align: right;\">            0</td><td style=\"text-align: right;\">0          </td></tr>\n",
              "<tr><td style=\"text-align: right;\">1.59006e+08</td><td style=\"text-align: right;\">               0     </td><td style=\"text-align: right;\">                             0</td><td style=\"text-align: right;\"> 0         </td><td style=\"text-align: right;\"> 0         </td><td style=\"text-align: right;\">          0</td><td style=\"text-align: right;\">  0        </td><td style=\"text-align: right;\"> 0.0356589 </td><td style=\"text-align: right;\">          0</td><td style=\"text-align: right;\">          0</td><td style=\"text-align: right;\">   0       </td><td style=\"text-align: right;\">           0</td><td style=\"text-align: right;\">           0</td><td style=\"text-align: right;\">           0</td><td style=\"text-align: right;\">           0</td><td style=\"text-align: right;\">           0</td><td style=\"text-align: right;\">           0</td><td style=\"text-align: right;\">           0</td><td style=\"text-align: right;\">           0</td><td style=\"text-align: right;\">    31.6        </td><td style=\"text-align: right;\">                      1</td><td style=\"text-align: right;\">             0</td><td style=\"text-align: right;\">                 0</td><td style=\"text-align: right;\">            0</td><td style=\"text-align: right;\">0          </td></tr>\n",
              "<tr><td style=\"text-align: right;\">5.02404e+10</td><td style=\"text-align: right;\">               0     </td><td style=\"text-align: right;\">                             0</td><td style=\"text-align: right;\"> 0         </td><td style=\"text-align: right;\"> 0         </td><td style=\"text-align: right;\">          0</td><td style=\"text-align: right;\">  0        </td><td style=\"text-align: right;\"> 0.0425753 </td><td style=\"text-align: right;\">          0</td><td style=\"text-align: right;\">          0</td><td style=\"text-align: right;\">   0       </td><td style=\"text-align: right;\">           0</td><td style=\"text-align: right;\">           0</td><td style=\"text-align: right;\">           0</td><td style=\"text-align: right;\">           0</td><td style=\"text-align: right;\">           0</td><td style=\"text-align: right;\">           0</td><td style=\"text-align: right;\">           0</td><td style=\"text-align: right;\">           0</td><td style=\"text-align: right;\">  5095          </td><td style=\"text-align: right;\">                      0</td><td style=\"text-align: right;\">             0</td><td style=\"text-align: right;\">                 1</td><td style=\"text-align: right;\">            0</td><td style=\"text-align: right;\">0          </td></tr>\n",
              "<tr><td style=\"text-align: right;\">5.02404e+10</td><td style=\"text-align: right;\">               0     </td><td style=\"text-align: right;\">                             0</td><td style=\"text-align: right;\"> 0         </td><td style=\"text-align: right;\"> 0         </td><td style=\"text-align: right;\">          0</td><td style=\"text-align: right;\">  0        </td><td style=\"text-align: right;\"> 0.0425753 </td><td style=\"text-align: right;\">          0</td><td style=\"text-align: right;\">          0</td><td style=\"text-align: right;\">   0       </td><td style=\"text-align: right;\">           0</td><td style=\"text-align: right;\">           0</td><td style=\"text-align: right;\">           0</td><td style=\"text-align: right;\">           0</td><td style=\"text-align: right;\">           0</td><td style=\"text-align: right;\">           0</td><td style=\"text-align: right;\">           0</td><td style=\"text-align: right;\">           0</td><td style=\"text-align: right;\">  4153          </td><td style=\"text-align: right;\">                      0</td><td style=\"text-align: right;\">             0</td><td style=\"text-align: right;\">                 1</td><td style=\"text-align: right;\">            0</td><td style=\"text-align: right;\">0          </td></tr>\n",
              "<tr><td style=\"text-align: right;\">7.17876e+10</td><td style=\"text-align: right;\">             100     </td><td style=\"text-align: right;\">                           100</td><td style=\"text-align: right;\"> 0         </td><td style=\"text-align: right;\"> 0         </td><td style=\"text-align: right;\">          0</td><td style=\"text-align: right;\">  0.0233048</td><td style=\"text-align: right;\"> 0.0542015 </td><td style=\"text-align: right;\">          0</td><td style=\"text-align: right;\">          0</td><td style=\"text-align: right;\">   0       </td><td style=\"text-align: right;\">           0</td><td style=\"text-align: right;\">           0</td><td style=\"text-align: right;\">           0</td><td style=\"text-align: right;\">           0</td><td style=\"text-align: right;\">           0</td><td style=\"text-align: right;\">           0</td><td style=\"text-align: right;\">           0</td><td style=\"text-align: right;\">           0</td><td style=\"text-align: right;\"> 66395          </td><td style=\"text-align: right;\">                      0</td><td style=\"text-align: right;\">             0</td><td style=\"text-align: right;\">                 1</td><td style=\"text-align: right;\">            0</td><td style=\"text-align: right;\">0.0184572  </td></tr>\n",
              "<tr><td style=\"text-align: right;\">2.34315e+10</td><td style=\"text-align: right;\">             100     </td><td style=\"text-align: right;\">                           100</td><td style=\"text-align: right;\"> 0         </td><td style=\"text-align: right;\"> 0         </td><td style=\"text-align: right;\">          0</td><td style=\"text-align: right;\">  0.0107548</td><td style=\"text-align: right;\"> 0.0480977 </td><td style=\"text-align: right;\">          0</td><td style=\"text-align: right;\">          0</td><td style=\"text-align: right;\">   0       </td><td style=\"text-align: right;\">           0</td><td style=\"text-align: right;\">           0</td><td style=\"text-align: right;\">           0</td><td style=\"text-align: right;\">           0</td><td style=\"text-align: right;\">           0</td><td style=\"text-align: right;\">           0</td><td style=\"text-align: right;\">           0</td><td style=\"text-align: right;\">           0</td><td style=\"text-align: right;\">195777          </td><td style=\"text-align: right;\">                      0</td><td style=\"text-align: right;\">             1</td><td style=\"text-align: right;\">                 0</td><td style=\"text-align: right;\">            0</td><td style=\"text-align: right;\">0.0488659  </td></tr>\n",
              "<tr><td style=\"text-align: right;\">1.2109e+10 </td><td style=\"text-align: right;\">               0     </td><td style=\"text-align: right;\">                             0</td><td style=\"text-align: right;\"> 0         </td><td style=\"text-align: right;\"> 0         </td><td style=\"text-align: right;\">          0</td><td style=\"text-align: right;\">  0        </td><td style=\"text-align: right;\"> 0.114295  </td><td style=\"text-align: right;\">          0</td><td style=\"text-align: right;\">          0</td><td style=\"text-align: right;\">   0       </td><td style=\"text-align: right;\">           0</td><td style=\"text-align: right;\">           0</td><td style=\"text-align: right;\">           0</td><td style=\"text-align: right;\">           0</td><td style=\"text-align: right;\">           0</td><td style=\"text-align: right;\">           0</td><td style=\"text-align: right;\">           0</td><td style=\"text-align: right;\">           0</td><td style=\"text-align: right;\"> 52169          </td><td style=\"text-align: right;\">                      1</td><td style=\"text-align: right;\">             0</td><td style=\"text-align: right;\">                 0</td><td style=\"text-align: right;\">            0</td><td style=\"text-align: right;\">0          </td></tr>\n",
              "<tr><td style=\"text-align: right;\">2.26944e+10</td><td style=\"text-align: right;\">              34.5718</td><td style=\"text-align: right;\">                             0</td><td style=\"text-align: right;\"> 0         </td><td style=\"text-align: right;\"> 0.0869819 </td><td style=\"text-align: right;\">          0</td><td style=\"text-align: right;\">  0        </td><td style=\"text-align: right;\"> 0.048382  </td><td style=\"text-align: right;\">          0</td><td style=\"text-align: right;\">          0</td><td style=\"text-align: right;\">   0       </td><td style=\"text-align: right;\">           0</td><td style=\"text-align: right;\">           0</td><td style=\"text-align: right;\">           0</td><td style=\"text-align: right;\">           0</td><td style=\"text-align: right;\">           0</td><td style=\"text-align: right;\">           0</td><td style=\"text-align: right;\">           0</td><td style=\"text-align: right;\">           0</td><td style=\"text-align: right;\"> 11845          </td><td style=\"text-align: right;\">                      0</td><td style=\"text-align: right;\">             0</td><td style=\"text-align: right;\">                 1</td><td style=\"text-align: right;\">            0</td><td style=\"text-align: right;\">0.00458263 </td></tr>\n",
              "<tr><td style=\"text-align: right;\">2.06058e+10</td><td style=\"text-align: right;\">               0     </td><td style=\"text-align: right;\">                             0</td><td style=\"text-align: right;\"> 0         </td><td style=\"text-align: right;\"> 0         </td><td style=\"text-align: right;\">          0</td><td style=\"text-align: right;\">  0        </td><td style=\"text-align: right;\"> 0         </td><td style=\"text-align: right;\">          0</td><td style=\"text-align: right;\">          0</td><td style=\"text-align: right;\">   0.167768</td><td style=\"text-align: right;\">           0</td><td style=\"text-align: right;\">           0</td><td style=\"text-align: right;\">           0</td><td style=\"text-align: right;\">           0</td><td style=\"text-align: right;\">           0</td><td style=\"text-align: right;\">           0</td><td style=\"text-align: right;\">           0</td><td style=\"text-align: right;\">           0</td><td style=\"text-align: right;\">     1.25101e+06</td><td style=\"text-align: right;\">                      0</td><td style=\"text-align: right;\">             1</td><td style=\"text-align: right;\">                 0</td><td style=\"text-align: right;\">            0</td><td style=\"text-align: right;\">0          </td></tr>\n",
              "</tbody>\n",
              "</table><pre style='font-size: smaller; margin-bottom: 1em;'>[115 rows x 25 columns]</pre>"
            ]
          },
          "metadata": {},
          "execution_count": 48
        }
      ]
    },
    {
      "cell_type": "code",
      "source": [
        "hf.types"
      ],
      "metadata": {
        "colab": {
          "base_uri": "https://localhost:8080/"
        },
        "id": "w13rZL1Cgkl3",
        "outputId": "3a08570f-4ca5-4466-ffe4-ae5125924e6c"
      },
      "execution_count": null,
      "outputs": [
        {
          "output_type": "execute_result",
          "data": {
            "text/plain": [
              "{'revenue': 'real',\n",
              " 'Percent S3 verified': 'real',\n",
              " 'Percent S3 verified FILTERED': 'real',\n",
              " 'cat_2_adj': 'real',\n",
              " 'cat_3_adj': 'real',\n",
              " 'cat_4_adj': 'real',\n",
              " 'cat_5_adj': 'real',\n",
              " 'cat_6_adj': 'real',\n",
              " 'cat_7_adj': 'real',\n",
              " 'cat_8_adj': 'real',\n",
              " 'cat_9_adj': 'real',\n",
              " 'cat_10_adj': 'int',\n",
              " 'cat_11_adj': 'real',\n",
              " 'cat_12_adj': 'real',\n",
              " 'cat_13_adj': 'real',\n",
              " 'cat_14_adj': 'int',\n",
              " 'cat_15_adj': 'int',\n",
              " 'cat_16_adj': 'real',\n",
              " 'cat_17_adj': 'real',\n",
              " 'scope_1_2': 'real',\n",
              " 'sector_Asset managers': 'int',\n",
              " 'sector_Banks': 'int',\n",
              " 'sector_Insurance': 'int',\n",
              " 'sector_REIT': 'int',\n",
              " 'cat_1_adj': 'real'}"
            ]
          },
          "metadata": {},
          "execution_count": 49
        }
      ]
    },
    {
      "cell_type": "code",
      "source": [
        "from h2o.estimators import H2OGradientBoostingEstimator\n",
        "\n",
        "predictors = hf.columns\n",
        "predictors.remove('cat_1_adj')\n",
        "response = 'cat_1_adj'\n",
        "\n",
        "# Split the dataset into a train and valid set:\n",
        "train, test = hf.split_frame(ratios=[.8], seed=1234, )\n",
        "\n",
        "# Build and train the model:\n",
        "gbm = H2OGradientBoostingEstimator()\n",
        "gbm.train(y = response, training_frame = train)\n",
        "\n",
        "\n",
        "\n",
        "# Eval performance:\n",
        "gbm.residual_analysis_plot(test)"
      ],
      "metadata": {
        "colab": {
          "base_uri": "https://localhost:8080/",
          "height": 728
        },
        "id": "8toGA16Bgkqj",
        "outputId": "cb5b642d-82f0-4ea6-cc1c-2a8f9dbc63dc"
      },
      "execution_count": null,
      "outputs": [
        {
          "output_type": "stream",
          "name": "stdout",
          "text": [
            "gbm Model Build progress: |"
          ]
        },
        {
          "output_type": "stream",
          "name": "stderr",
          "text": [
            "/usr/local/lib/python3.8/dist-packages/h2o/estimators/estimator_base.py:193: RuntimeWarning: Dropping bad and constant columns: [cat_14_adj, cat_10_adj, cat_15_adj]\n",
            "  warnings.warn(mesg[\"message\"], RuntimeWarning)\n"
          ]
        },
        {
          "output_type": "stream",
          "name": "stdout",
          "text": [
            "██████████████████████████████████████████████████████| (done) 100%\n"
          ]
        },
        {
          "output_type": "execute_result",
          "data": {
            "text/plain": [
              "<h2o.plot._plot_result._MObject at 0x7fb60cf197c0>"
            ]
          },
          "metadata": {},
          "execution_count": 50
        },
        {
          "output_type": "display_data",
          "data": {
            "text/plain": [
              "<Figure size 1152x648 with 1 Axes>"
            ],
            "image/png": "[encoded data removed]"
          },
          "metadata": {
            "needs_background": "light"
          }
        }
      ]
    },
    {
      "cell_type": "markdown",
      "source": [
        "#Lasso Model"
      ],
      "metadata": {
        "id": "smQT5WfcmdiK"
      }
    },
    {
      "cell_type": "code",
      "source": [
        "df5.head(2)"
      ],
      "metadata": {
        "colab": {
          "base_uri": "https://localhost:8080/",
          "height": 289
        },
        "id": "eIs3F1V6sbih",
        "outputId": "418def67-bca7-4c8e-e730-f536a09421c1"
      },
      "execution_count": null,
      "outputs": [
        {
          "output_type": "execute_result",
          "data": {
            "text/plain": [
              "                     revenue  Percent S3 verified  \\\n",
              "account_number                                      \n",
              "9411            9.640943e+09            76.521739   \n",
              "44291           1.590064e+08             0.000000   \n",
              "\n",
              "                Percent S3 verified FILTERED  cat_2_adj  cat_3_adj  cat_4_adj  \\\n",
              "account_number                                                                  \n",
              "9411                                   100.0   0.001857   0.002801        0.0   \n",
              "44291                                    0.0   0.000000   0.000000        0.0   \n",
              "\n",
              "                cat_5_adj  cat_6_adj  cat_7_adj  cat_8_adj  ...  cat_14_adj  \\\n",
              "account_number                                              ...               \n",
              "9411                  0.0   0.006742        0.0        0.0  ...         0.0   \n",
              "44291                 0.0   0.035659        0.0        0.0  ...         0.0   \n",
              "\n",
              "                cat_15_adj  cat_16_adj  cat_17_adj  scope_1_2  \\\n",
              "account_number                                                  \n",
              "9411                   0.0         0.0         0.0       88.0   \n",
              "44291                  0.0         0.0         0.0     2583.4   \n",
              "\n",
              "                sector_Asset managers  sector_Banks  sector_Insurance  \\\n",
              "account_number                                                          \n",
              "9411                                1             0                 0   \n",
              "44291                               1             0                 0   \n",
              "\n",
              "                sector_REIT  cat_1_adj  \n",
              "account_number                          \n",
              "9411                      0   0.000529  \n",
              "44291                     0   0.000000  \n",
              "\n",
              "[2 rows x 25 columns]"
            ],
            "text/html": [
              "\n",
              "  <div id=\"df-fd5efbe7-ea74-4468-895a-91c949300ff4\">\n",
              "    <div class=\"colab-df-container\">\n",
              "      <div>\n",
              "<style scoped>\n",
              "    .dataframe tbody tr th:only-of-type {\n",
              "        vertical-align: middle;\n",
              "    }\n",
              "\n",
              "    .dataframe tbody tr th {\n",
              "        vertical-align: top;\n",
              "    }\n",
              "\n",
              "    .dataframe thead th {\n",
              "        text-align: right;\n",
              "    }\n",
              "</style>\n",
              "<table border=\"1\" class=\"dataframe\">\n",
              "  <thead>\n",
              "    <tr style=\"text-align: right;\">\n",
              "      <th></th>\n",
              "      <th>revenue</th>\n",
              "      <th>Percent S3 verified</th>\n",
              "      <th>Percent S3 verified FILTERED</th>\n",
              "      <th>cat_2_adj</th>\n",
              "      <th>cat_3_adj</th>\n",
              "      <th>cat_4_adj</th>\n",
              "      <th>cat_5_adj</th>\n",
              "      <th>cat_6_adj</th>\n",
              "      <th>cat_7_adj</th>\n",
              "      <th>cat_8_adj</th>\n",
              "      <th>...</th>\n",
              "      <th>cat_14_adj</th>\n",
              "      <th>cat_15_adj</th>\n",
              "      <th>cat_16_adj</th>\n",
              "      <th>cat_17_adj</th>\n",
              "      <th>scope_1_2</th>\n",
              "      <th>sector_Asset managers</th>\n",
              "      <th>sector_Banks</th>\n",
              "      <th>sector_Insurance</th>\n",
              "      <th>sector_REIT</th>\n",
              "      <th>cat_1_adj</th>\n",
              "    </tr>\n",
              "    <tr>\n",
              "      <th>account_number</th>\n",
              "      <th></th>\n",
              "      <th></th>\n",
              "      <th></th>\n",
              "      <th></th>\n",
              "      <th></th>\n",
              "      <th></th>\n",
              "      <th></th>\n",
              "      <th></th>\n",
              "      <th></th>\n",
              "      <th></th>\n",
              "      <th></th>\n",
              "      <th></th>\n",
              "      <th></th>\n",
              "      <th></th>\n",
              "      <th></th>\n",
              "      <th></th>\n",
              "      <th></th>\n",
              "      <th></th>\n",
              "      <th></th>\n",
              "      <th></th>\n",
              "      <th></th>\n",
              "    </tr>\n",
              "  </thead>\n",
              "  <tbody>\n",
              "    <tr>\n",
              "      <th>9411</th>\n",
              "      <td>9.640943e+09</td>\n",
              "      <td>76.521739</td>\n",
              "      <td>100.0</td>\n",
              "      <td>0.001857</td>\n",
              "      <td>0.002801</td>\n",
              "      <td>0.0</td>\n",
              "      <td>0.0</td>\n",
              "      <td>0.006742</td>\n",
              "      <td>0.0</td>\n",
              "      <td>0.0</td>\n",
              "      <td>...</td>\n",
              "      <td>0.0</td>\n",
              "      <td>0.0</td>\n",
              "      <td>0.0</td>\n",
              "      <td>0.0</td>\n",
              "      <td>88.0</td>\n",
              "      <td>1</td>\n",
              "      <td>0</td>\n",
              "      <td>0</td>\n",
              "      <td>0</td>\n",
              "      <td>0.000529</td>\n",
              "    </tr>\n",
              "    <tr>\n",
              "      <th>44291</th>\n",
              "      <td>1.590064e+08</td>\n",
              "      <td>0.000000</td>\n",
              "      <td>0.0</td>\n",
              "      <td>0.000000</td>\n",
              "      <td>0.000000</td>\n",
              "      <td>0.0</td>\n",
              "      <td>0.0</td>\n",
              "      <td>0.035659</td>\n",
              "      <td>0.0</td>\n",
              "      <td>0.0</td>\n",
              "      <td>...</td>\n",
              "      <td>0.0</td>\n",
              "      <td>0.0</td>\n",
              "      <td>0.0</td>\n",
              "      <td>0.0</td>\n",
              "      <td>2583.4</td>\n",
              "      <td>1</td>\n",
              "      <td>0</td>\n",
              "      <td>0</td>\n",
              "      <td>0</td>\n",
              "      <td>0.000000</td>\n",
              "    </tr>\n",
              "  </tbody>\n",
              "</table>\n",
              "<p>2 rows × 25 columns</p>\n",
              "</div>\n",
              "      <button class=\"colab-df-convert\" onclick=\"convertToInteractive('df-fd5efbe7-ea74-4468-895a-91c949300ff4')\"\n",
              "              title=\"Convert this dataframe to an interactive table.\"\n",
              "              style=\"display:none;\">\n",
              "        \n",
              "  <svg xmlns=\"http://www.w3.org/2000/svg\" height=\"24px\"viewBox=\"0 0 24 24\"\n",
              "       width=\"24px\">\n",
              "    <path d=\"M0 0h24v24H0V0z\" fill=\"none\"/>\n",
              "    <path d=\"M18.56 5.44l.94 2.06.94-2.06 2.06-.94-2.06-.94-.94-2.06-.94 2.06-2.06.94zm-11 1L8.5 8.5l.94-2.06 2.06-.94-2.06-.94L8.5 2.5l-.94 2.06-2.06.94zm10 10l.94 2.06.94-2.06 2.06-.94-2.06-.94-.94-2.06-.94 2.06-2.06.94z\"/><path d=\"M17.41 7.96l-1.37-1.37c-.4-.4-.92-.59-1.43-.59-.52 0-1.04.2-1.43.59L10.3 9.45l-7.72 7.72c-.78.78-.78 2.05 0 2.83L4 21.41c.39.39.9.59 1.41.59.51 0 1.02-.2 1.41-.59l7.78-7.78 2.81-2.81c.8-.78.8-2.07 0-2.86zM5.41 20L4 18.59l7.72-7.72 1.47 1.35L5.41 20z\"/>\n",
              "  </svg>\n",
              "      </button>\n",
              "      \n",
              "  <style>\n",
              "    .colab-df-container {\n",
              "      display:flex;\n",
              "      flex-wrap:wrap;\n",
              "      gap: 12px;\n",
              "    }\n",
              "\n",
              "    .colab-df-convert {\n",
              "      background-color: #E8F0FE;\n",
              "      border: none;\n",
              "      border-radius: 50%;\n",
              "      cursor: pointer;\n",
              "      display: none;\n",
              "      fill: #1967D2;\n",
              "      height: 32px;\n",
              "      padding: 0 0 0 0;\n",
              "      width: 32px;\n",
              "    }\n",
              "\n",
              "    .colab-df-convert:hover {\n",
              "      background-color: #E2EBFA;\n",
              "      box-shadow: 0px 1px 2px rgba(60, 64, 67, 0.3), 0px 1px 3px 1px rgba(60, 64, 67, 0.15);\n",
              "      fill: #174EA6;\n",
              "    }\n",
              "\n",
              "    [theme=dark] .colab-df-convert {\n",
              "      background-color: #3B4455;\n",
              "      fill: #D2E3FC;\n",
              "    }\n",
              "\n",
              "    [theme=dark] .colab-df-convert:hover {\n",
              "      background-color: #434B5C;\n",
              "      box-shadow: 0px 1px 3px 1px rgba(0, 0, 0, 0.15);\n",
              "      filter: drop-shadow(0px 1px 2px rgba(0, 0, 0, 0.3));\n",
              "      fill: #FFFFFF;\n",
              "    }\n",
              "  </style>\n",
              "\n",
              "      <script>\n",
              "        const buttonEl =\n",
              "          document.querySelector('#df-fd5efbe7-ea74-4468-895a-91c949300ff4 button.colab-df-convert');\n",
              "        buttonEl.style.display =\n",
              "          google.colab.kernel.accessAllowed ? 'block' : 'none';\n",
              "\n",
              "        async function convertToInteractive(key) {\n",
              "          const element = document.querySelector('#df-fd5efbe7-ea74-4468-895a-91c949300ff4');\n",
              "          const dataTable =\n",
              "            await google.colab.kernel.invokeFunction('convertToInteractive',\n",
              "                                                     [key], {});\n",
              "          if (!dataTable) return;\n",
              "\n",
              "          const docLinkHtml = 'Like what you see? Visit the ' +\n",
              "            '<a target=\"_blank\" href=https://colab.research.google.com/notebooks/data_table.ipynb>data table notebook</a>'\n",
              "            + ' to learn more about interactive tables.';\n",
              "          element.innerHTML = '';\n",
              "          dataTable['output_type'] = 'display_data';\n",
              "          await google.colab.output.renderOutput(dataTable, element);\n",
              "          const docLink = document.createElement('div');\n",
              "          docLink.innerHTML = docLinkHtml;\n",
              "          element.appendChild(docLink);\n",
              "        }\n",
              "      </script>\n",
              "    </div>\n",
              "  </div>\n",
              "  "
            ]
          },
          "metadata": {},
          "execution_count": 51
        }
      ]
    },
    {
      "cell_type": "code",
      "source": [
        "from sklearn import linear_model"
      ],
      "metadata": {
        "id": "AtDFd3NcgkxU"
      },
      "execution_count": null,
      "outputs": []
    },
    {
      "cell_type": "code",
      "source": [
        "from numpy import mean\n",
        "from numpy import std\n",
        "from sklearn.model_selection import cross_val_score\n",
        "from sklearn.model_selection import RepeatedKFold\n",
        "from sklearn.linear_model import Lasso\n",
        "from numpy import absolute\n",
        "\n",
        "data = df5.values\n",
        "X, y = data[:, :-1], data[:, -1]\n",
        "\n",
        "\n",
        "model = Lasso(alpha=1.0)\n",
        "cv = RepeatedKFold(n_splits=10, n_repeats=3, random_state=1)\n",
        "# evaluate model\n",
        "scores = cross_val_score(model, X, y, scoring='neg_mean_absolute_error', cv=cv, n_jobs=-1)\n",
        "# force scores to be positive\n",
        "scores = absolute(scores)\n",
        "print('Mean MAE: %.3f (%.3f)' % (mean(scores), std(scores)))"
      ],
      "metadata": {
        "colab": {
          "base_uri": "https://localhost:8080/"
        },
        "id": "FkO1KLVwjaQo",
        "outputId": "5af87973-4310-4d0a-90a4-d8bf6dca954f"
      },
      "execution_count": null,
      "outputs": [
        {
          "output_type": "stream",
          "name": "stdout",
          "text": [
            "Mean MAE: 11.374 (9.385)\n"
          ]
        }
      ]
    },
    {
      "cell_type": "code",
      "source": [
        "## Tunning lasso regression model\n",
        "\n",
        "from numpy import arange\n",
        "from sklearn.model_selection import RepeatedKFold\n",
        "import pandas as pd\n",
        "from sklearn.linear_model import LassoCV\n",
        "\n",
        "## load the dataset\n",
        "data = df5.values\n",
        "X, y = data[:, :-1], data[:, -1]\n",
        "\n",
        "model_lasso = Lasso(alpha=1)\n",
        "model_lasso.fit(X_train, y_train)\n",
        "pred_train_lasso= model_lasso.predict(X_train)\n",
        "pred_test_lasso= model_lasso.predict(X_test)\n",
        "\n",
        "\n",
        "print(np.sqrt(mean_squared_error(y_train,pred_train_lasso)))\n",
        "print(r2_score(y_train, pred_train_lasso))\n",
        "print(np.sqrt(mean_squared_error(y_test,pred_test_lasso)))\n",
        "print(r2_score(y_test, pred_test_lasso))\n",
        "\n",
        "\n"
      ],
      "metadata": {
        "colab": {
          "base_uri": "https://localhost:8080/"
        },
        "id": "YpOvfihajaWq",
        "outputId": "b98aff24-ab0f-486c-9316-ce43e30f3e6d"
      },
      "execution_count": null,
      "outputs": [
        {
          "output_type": "stream",
          "name": "stdout",
          "text": [
            "10.539304330943173\n",
            "0.6961807939575825\n",
            "95.50463446066486\n",
            "-71.07928062095894\n"
          ]
        }
      ]
    },
    {
      "cell_type": "code",
      "source": [
        "# grid search hyperparameters for lasso regression\n",
        "from numpy import arange\n",
        "from pandas import read_csv\n",
        "from sklearn.model_selection import GridSearchCV\n",
        "from sklearn.model_selection import RepeatedKFold\n",
        "from sklearn.linear_model import Lasso\n",
        "# load the dataset\n",
        "\n",
        "\n",
        "data = df5.values\n",
        "\n",
        "X, y = data[:, :-1], data[:, -1]\n",
        "# define model\n",
        "model = Lasso()\n",
        "# define model evaluation method\n",
        "cv = RepeatedKFold(n_splits=10, n_repeats=3, random_state=1)\n",
        "# define grid\n",
        "grid = dict()\n",
        "grid['alpha'] = arange(0, 1, 0.01)\n",
        "# define search\n",
        "search = GridSearchCV(model, grid, scoring='neg_mean_absolute_error', cv=cv, n_jobs=-1)\n",
        "# perform the search\n",
        "results = search.fit(X, y)\n",
        "# summarize\n",
        "print('MAE: %.3f' % results.best_score_)\n",
        "print('Config: %s' % results.best_params_)"
      ],
      "metadata": {
        "colab": {
          "base_uri": "https://localhost:8080/"
        },
        "id": "igFbN03sjaf0",
        "outputId": "21676429-0600-4bd0-fb8c-5a4ac1ce336e"
      },
      "execution_count": null,
      "outputs": [
        {
          "output_type": "stream",
          "name": "stdout",
          "text": [
            "MAE: -11.038\n",
            "Config: {'alpha': 0.21}\n"
          ]
        }
      ]
    },
    {
      "cell_type": "code",
      "source": [
        "data = df5.values\n",
        "X, y = data[:, :-1], data[:, -1]\n",
        "\n",
        "\n",
        "model = Lasso(alpha=0.21)\n",
        "cv = RepeatedKFold(n_splits=10, n_repeats=3, random_state=1)\n",
        "# evaluate model\n",
        "scores = cross_val_score(model, X, y, scoring='neg_mean_absolute_error', cv=cv, n_jobs=-1)\n",
        "# force scores to be positive\n",
        "scores = absolute(scores)\n",
        "print('Mean MAE: %.3f (%.3f)' % (mean(scores), std(scores)))\n",
        "print(np.sqrt(mean_squared_error(y_train,pred_train_lasso)))\n",
        "print('The r2 value is', r2_score(y_train, pred_train_lasso))\n",
        "print('The mean squared error is', np.sqrt(mean_squared_error(y_test,pred_test_lasso)))\n",
        "print(r2_score(y_test, pred_test_lasso))"
      ],
      "metadata": {
        "colab": {
          "base_uri": "https://localhost:8080/"
        },
        "id": "WxgMlCvSgk0X",
        "outputId": "1936a0e6-ed40-4b7d-9c68-daec8640b52b"
      },
      "execution_count": null,
      "outputs": [
        {
          "output_type": "stream",
          "name": "stdout",
          "text": [
            "Mean MAE: 11.038 (10.736)\n",
            "10.539304330943173\n",
            "The r2 value is 0.6961807939575825\n",
            "The mean squared error is 95.50463446066486\n",
            "-71.07928062095894\n"
          ]
        }
      ]
    }
  ]
}
