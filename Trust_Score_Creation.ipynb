{
  "nbformat": 4,
  "nbformat_minor": 0,
  "metadata": {
    "colab": {
      "provenance": [],
      "authorship_tag": "ABX9TyMaaOFSyA1zPLLjsuizuD3F",
      "include_colab_link": true
    },
    "kernelspec": {
      "name": "python3",
      "display_name": "Python 3"
    },
    "language_info": {
      "name": "python"
    }
  },
  "cells": [
    {
      "cell_type": "markdown",
      "metadata": {
        "id": "view-in-github",
        "colab_type": "text"
      },
      "source": [
        "<a href=\"https://colab.research.google.com/github/leeryleprechaun/MSDS_Practicum_Public/blob/main/Week_5_Trust_Score_Addition.ipynb\" target=\"_parent\"><img src=\"https://colab.research.google.com/assets/colab-badge.svg\" alt=\"Open In Colab\"/></a>"
      ]
    },
    {
      "cell_type": "code",
      "execution_count": null,
      "metadata": {
        "id": "YV3ZwJ7a99cm"
      },
      "outputs": [],
      "source": [
        "# Loading in the data\n",
        "# This is just the small frame of 5 sectors we have chosen to focus on\n",
        "# All the emissions data is adjusted for revenue\n",
        "\n",
        "import pandas as pd\n",
        "\n",
        "url=''\n",
        "url='https://drive.google.com/uc?id=' + url.split('/')[-2]\n",
        "df = pd.read_csv(url)\n",
        "df"
      ]
    },
    {
      "cell_type": "code",
      "source": [
        "# This is the full trust score frame from Joseff\n",
        "url=''\n",
        "url='https://drive.google.com/uc?id=' + url.split('/')[-2]\n",
        "trust_df = pd.read_csv(url)\n",
        "trust_df"
      ],
      "metadata": {
        "id": "-phao5aD-aRh"
      },
      "execution_count": null,
      "outputs": []
    },
    {
      "cell_type": "code",
      "source": [
        "# Now I will combine those two files and merge on the account numbers, we will want a final frame with 328 values\n",
        "newdf = df.merge(trust_df, left_on=\"Account numberx\", right_on=\"Account\")\n",
        "newdf"
      ],
      "metadata": {
        "id": "HNJgY-MH-xGK"
      },
      "execution_count": null,
      "outputs": []
    },
    {
      "cell_type": "code",
      "source": [
        "# Now I will save this new frame\n",
        "from google.colab import drive\n",
        "\n",
        "drive.mount('/content/drive')\n",
        "path = '/content/drive/My Drive/output.csv'\n",
        "\n",
        "with open(path, 'w', encoding = 'utf-8-sig') as f:\n",
        "  newdf.to_csv(f)"
      ],
      "metadata": {
        "colab": {
          "base_uri": "https://localhost:8080/"
        },
        "id": "elpv_-12_fyh",
        "outputId": "d2882c75-16ca-4e4f-8701-e6a60292fc1b"
      },
      "execution_count": null,
      "outputs": [
        {
          "output_type": "stream",
          "name": "stdout",
          "text": [
            "Mounted at /content/drive\n"
          ]
        }
      ]
    },
    {
      "cell_type": "markdown",
      "source": [
        "I moved and renamed some of the columns in google sheets so that they are all in the correct order and to make sure that the names and account numbers matched correctly"
      ],
      "metadata": {
        "id": "q9otvIjbBnfr"
      }
    },
    {
      "cell_type": "code",
      "source": [
        "# Looking at the completed frame\n",
        "url=''\n",
        "url='https://drive.google.com/uc?id=' + url.split('/')[-2]\n",
        "trust_df = pd.read_csv(url)\n",
        "trust_df"
      ],
      "metadata": {
        "id": "2cASwkwdBmmw"
      },
      "execution_count": null,
      "outputs": []
    }
  ]
}
