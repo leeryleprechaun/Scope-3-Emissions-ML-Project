{
  "cells": [
    {
      "cell_type": "markdown",
      "metadata": {
        "id": "view-in-github",
        "colab_type": "text"
      },
      "source": [
        "<a href=\"https://colab.research.google.com/github/leeryleprechaun/MSDS_Practicum_Public/blob/main/Week_2_EDA_Public.ipynb\" target=\"_parent\"><img src=\"https://colab.research.google.com/assets/colab-badge.svg\" alt=\"Open In Colab\"/></a>"
      ]
    },
    {
      "cell_type": "markdown",
      "id": "c985724f",
      "metadata": {
        "id": "c985724f"
      },
      "source": [
        "# Initial EDA\n",
        "###### C6.5_C2 Account for your organization’s gross global Scope 3 emissions, disclosing and explaining any exclusions. - Evaluation status\n",
        "###### C6.5_C2_Account for your organization’s gross global Scope 3 emissions, disclosing and explaining any exclusions. - Metric tonnes CO2e\n",
        "###### C6.5_C3_Account for your organization’s gross global Scope 3 emissions, disclosing and explaining any exclusions. - Emissions calculation methodology\n",
        "###### C6.5_C4_Account for your organization’s gross global Scope 3 emissions, disclosing and explaining any exclusions. - Percentage of emissions calculated using data obtained from suppliers or value chain partners\n",
        "\n"
      ]
    },
    {
      "cell_type": "code",
      "execution_count": null,
      "id": "c3b55bb6",
      "metadata": {
        "id": "c3b55bb6"
      },
      "outputs": [],
      "source": [
        "\n",
        "### Code used when notebook was on my local machine\n",
        "# Loading in packages and the raw date\n",
        "#import pandas as pd\n",
        "#import numpy as np\n",
        "#import matplotlib.pyplot as plt\n",
        "#import seaborn as sns\n",
        "#import tkinter\n",
        "\n",
        "#%matplotlib inline\n",
        "\n",
        "#df = pd.read_csv('C6.csv')\n",
        "\n",
        "#df"
      ]
    },
    {
      "cell_type": "code",
      "source": [
        "# Loading in packages and the raw date\n",
        "import pandas as pd\n",
        "import numpy as np\n",
        "import matplotlib.pyplot as plt\n",
        "import seaborn as sns\n",
        "import tkinter\n",
        "\n",
        "%matplotlib inline\n",
        "\n",
        "url='https://drive.google.com/file/d/1IUydVVPtD1AMlUoWzCHDa6PzxbYFd2BD/view?usp=share_link'\n",
        "url='https://drive.google.com/uc?id=' + url.split('/')[-2]\n",
        "df = pd.read_csv(url)"
      ],
      "metadata": {
        "id": "GrT3tTkICsrY"
      },
      "id": "GrT3tTkICsrY",
      "execution_count": null,
      "outputs": []
    },
    {
      "cell_type": "code",
      "execution_count": null,
      "id": "bfb6dec5",
      "metadata": {
        "id": "bfb6dec5"
      },
      "outputs": [],
      "source": [
        "df.info()"
      ]
    },
    {
      "cell_type": "code",
      "execution_count": null,
      "id": "35321bc8",
      "metadata": {
        "id": "35321bc8"
      },
      "outputs": [],
      "source": [
        "# Replacing all of the \"Question not applicable with NaN\"\n",
        "df = df.replace('Question not applicable', 'NaN')\n",
        "df.head(25)"
      ]
    },
    {
      "cell_type": "code",
      "execution_count": null,
      "id": "7d677e09",
      "metadata": {
        "id": "7d677e09"
      },
      "outputs": [],
      "source": [
        "#data frame of just those companies that listed scope three emissions as Relavant and Calculated\n",
        "relevant_df = df[df.C6_5_C1 == (\"Relevant, calculated\")]\n",
        "relevant_df.drop(['Public','Response received date', 'Response received date', 'Primary questionnaire sector', 'Row', 'RowName', 'C6_5_C1', 'C6_5_C3', 'C6_5_C5'],axis=1,inplace=True)\n",
        "\n",
        "relevant_df['C6_5_C2'] = relevant_df['C6_5_C2'].astype(float)\n",
        "relevant_df"
      ]
    },
    {
      "cell_type": "code",
      "execution_count": null,
      "id": "cfb6d1b3",
      "metadata": {
        "id": "cfb6d1b3"
      },
      "outputs": [],
      "source": [
        "#Companies that listed scope three emissions as Relevant, but have not year calculated them\n",
        "relevant_nocalc_df = df[df.C6_5_C1 == \"Relevant, not yet calculated\"]\n",
        "relevant_nocalc_df"
      ]
    },
    {
      "cell_type": "code",
      "execution_count": null,
      "id": "b120fb31",
      "metadata": {
        "id": "b120fb31"
      },
      "outputs": [],
      "source": [
        "#Creating a clean compy of the data, filtering it by relevant and calculated businesses, converting the emissions data to\n",
        "# a numerical value, and dropping unwanted columns\n",
        "df2 = df\n",
        "\n",
        "relevant_cal = df2[df2.C6_5_C1 == \"Relevant, calculated\"]\n",
        "\n",
        "relevant_cal['C6_5_C2'] = relevant_cal['C6_5_C2'].astype(float)\n",
        "\n",
        "relevant_cal.drop(['Public','Response received date', 'Response received date', 'Row', 'Primary questionnaire sector', 'C6_5_C1', 'C6_5_C3', 'C6_5_C5'],axis=1,inplace=True)\n",
        "relevant_cal.head(5)"
      ]
    },
    {
      "cell_type": "code",
      "execution_count": null,
      "id": "2eb5b2a9",
      "metadata": {
        "id": "2eb5b2a9"
      },
      "outputs": [],
      "source": [
        "#Pivot table to list all of the areas of impact and the emission values\n",
        "pivot_df = relevant_cal.pivot(index='Organization', columns='RowName', values = ['C6_5_C2'])\n",
        "pivot_df.head(10)"
      ]
    },
    {
      "cell_type": "code",
      "execution_count": null,
      "id": "9ab206c3",
      "metadata": {
        "id": "9ab206c3"
      },
      "outputs": [],
      "source": [
        "#replacing 'nan' with a zero value\n",
        "pivot_df = pivot_df.replace('Nan', 0)\n",
        "pivot_df.head(5)"
      ]
    },
    {
      "cell_type": "code",
      "execution_count": null,
      "id": "cd400259",
      "metadata": {
        "id": "cd400259"
      },
      "outputs": [],
      "source": [
        "#Summing emissions values\n",
        "total_scope_3 = pivot_df\n",
        "\n",
        "total_scope_3['Total Scope 3 Emissions'] = total_scope_3.sum(axis=1)\n",
        "\n",
        "total_scope_3.head(50)"
      ]
    },
    {
      "cell_type": "code",
      "execution_count": null,
      "id": "532011da",
      "metadata": {
        "id": "532011da"
      },
      "outputs": [],
      "source": [
        "total_scope_3.info()"
      ]
    },
    {
      "cell_type": "code",
      "execution_count": null,
      "id": "247dcf63",
      "metadata": {
        "id": "247dcf63"
      },
      "outputs": [],
      "source": [
        "# creating a list of all the organizations, and then limiting them to 1 copy of each\n",
        "df_organization = relevant_cal.drop_duplicates(subset=['Organization'], keep='first')\n",
        "df_organization.info()"
      ]
    },
    {
      "cell_type": "code",
      "execution_count": null,
      "id": "69a8e976",
      "metadata": {
        "id": "69a8e976"
      },
      "outputs": [],
      "source": [
        "df_organization.head(10)"
      ]
    },
    {
      "cell_type": "code",
      "execution_count": null,
      "id": "b64e7ff5",
      "metadata": {
        "id": "b64e7ff5"
      },
      "outputs": [],
      "source": [
        "combined = pd.merge(df_organization, total_scope_3 , on = 'Organization', how = 'outer')\n",
        "combined"
      ]
    },
    {
      "cell_type": "code",
      "execution_count": null,
      "id": "962cc870",
      "metadata": {
        "id": "962cc870"
      },
      "outputs": [],
      "source": [
        "# dropping some rows that I do not want\n",
        "df_final = combined\n",
        "df_final.drop(['RowName', 'C6_5_C2', 'C6_5_C4'],axis=1,inplace=True)\n",
        "df_final"
      ]
    },
    {
      "cell_type": "code",
      "execution_count": null,
      "id": "eea8f0a4",
      "metadata": {
        "id": "eea8f0a4"
      },
      "outputs": [],
      "source": [
        "namesList = ['business_travel', 'capital_goods', 'downstream_assets', 'downstream_trans', 'employee_comute', 'end_of_prod_life', 'franchises','non_scope_1_2_energy','investment','downstream','upstream','precessing_products','purchased_goods_and_services','upstream_assets','upstream_trans','sold_product_use','operations_waste','total_scope_3_emissions']\n",
        "df_final.columns = df_final.columns[:6].tolist() + namesList\n",
        "df_final.head(10)"
      ]
    },
    {
      "cell_type": "code",
      "execution_count": null,
      "id": "4e8f2f30",
      "metadata": {
        "id": "4e8f2f30"
      },
      "outputs": [],
      "source": [
        "df_final.info()"
      ]
    },
    {
      "cell_type": "code",
      "execution_count": null,
      "id": "d4f8ee57",
      "metadata": {
        "id": "d4f8ee57"
      },
      "outputs": [],
      "source": [
        "df_final.describe()"
      ]
    },
    {
      "cell_type": "code",
      "execution_count": null,
      "id": "61f96fc5",
      "metadata": {
        "id": "61f96fc5"
      },
      "outputs": [],
      "source": [
        "# saving file to csv\n",
        "df_final.to_csv('scope_3_emissions.csv', header=True, index=True)"
      ]
    },
    {
      "cell_type": "code",
      "execution_count": null,
      "id": "3566e11e",
      "metadata": {
        "id": "3566e11e"
      },
      "outputs": [],
      "source": [
        "# Loading the certification data\n",
        "\n",
        "url='https://drive.google.com/file/d/1vyfqBl3NNttgM2ucy7w3xippsvk4hQEa/view?usp=share_link'\n",
        "url='https://drive.google.com/uc?id=' + url.split('/')[-2]\n",
        "\n",
        "cert_df = pd.read_csv(url)\n",
        "cert_df.head(5)"
      ]
    },
    {
      "cell_type": "code",
      "execution_count": null,
      "id": "0c72ce90",
      "metadata": {
        "id": "0c72ce90"
      },
      "outputs": [],
      "source": [
        "namesList = ['scope_3_category', 'verification_cycle_in_place', 'report_status', 'verification_type', 'statement']\n",
        "cert_df.columns = cert_df.columns[:3].tolist() + namesList\n",
        "cert_df.head(10)"
      ]
    },
    {
      "cell_type": "code",
      "execution_count": null,
      "id": "a17bab15",
      "metadata": {
        "scrolled": true,
        "id": "a17bab15"
      },
      "outputs": [],
      "source": [
        "#certification data head\n",
        "cert_df.head(10)"
      ]
    },
    {
      "cell_type": "code",
      "execution_count": null,
      "id": "76e92376",
      "metadata": {
        "id": "76e92376"
      },
      "outputs": [],
      "source": [
        "# creating a list of all the organizations, and then limiting them to 1 copy of each\n",
        "cert_df = cert_df.drop_duplicates(subset=['Organization'], keep='first')\n",
        "cert_df.head(10)"
      ]
    },
    {
      "cell_type": "code",
      "execution_count": null,
      "id": "bdbcc6b4",
      "metadata": {
        "id": "bdbcc6b4"
      },
      "outputs": [],
      "source": [
        "# Making sure that the organization names from the relevant and calculated data are still loading\n",
        "df_organization"
      ]
    },
    {
      "cell_type": "code",
      "execution_count": null,
      "id": "c02174da",
      "metadata": {
        "id": "c02174da"
      },
      "outputs": [],
      "source": [
        "df_organization.info()"
      ]
    },
    {
      "cell_type": "code",
      "execution_count": null,
      "id": "b29ec0e2",
      "metadata": {
        "id": "b29ec0e2"
      },
      "outputs": [],
      "source": [
        "# I am going to use the organization names to filter the verification frame\n",
        "# right_on=['Account number', 'Organization', 'Country', 'Primary activity', 'Primary sector', 'Primary industry'])\n",
        "merged = pd.merge(df_organization, cert_df, how='inner', left_on=['Account number', 'Organization'], right_on=['Account number', 'Organization'])\n",
        "merged.drop(['RowName_x', 'C6_5_C2', 'C6_5_C4', 'RowName_y'],axis=1,inplace=True)\n",
        "\n",
        "# merged.drop('RowName_x')\n",
        "\n",
        "merged"
      ]
    },
    {
      "cell_type": "code",
      "execution_count": null,
      "id": "96e9c9c5",
      "metadata": {
        "id": "96e9c9c5"
      },
      "outputs": [],
      "source": [
        "# Looking at my scope 3 summed data again\n",
        "total_scope_3"
      ]
    },
    {
      "cell_type": "code",
      "execution_count": null,
      "id": "9188cbe8",
      "metadata": {
        "id": "9188cbe8"
      },
      "outputs": [],
      "source": [
        "combined = pd.merge(merged, total_scope_3 , on = 'Organization', how = 'inner')\n",
        "combined.head(5)"
      ]
    },
    {
      "cell_type": "code",
      "execution_count": null,
      "id": "d921b38b",
      "metadata": {
        "id": "d921b38b"
      },
      "outputs": [],
      "source": [
        "# renaming the labels\n",
        "df_final = combined\n",
        "namesList = ['business_travel', 'capital_goods', 'downstream_assets', 'downstream_trans', 'employee_comute', 'end_of_prod_life', 'franchises','non_scope_1_2_energy','investment','downstream','upstream','precessing_products','purchased_goods_and_services','upstream_assets','upstream_trans','sold_product_use','operations_waste','total_scope_3_emissions']\n",
        "df_final.columns = df_final.columns[:11].tolist() + namesList\n",
        "df_final.head(10)"
      ]
    },
    {
      "cell_type": "code",
      "execution_count": null,
      "id": "2833d226",
      "metadata": {
        "id": "2833d226"
      },
      "outputs": [],
      "source": [
        "df_final.info()"
      ]
    },
    {
      "cell_type": "code",
      "execution_count": null,
      "id": "d5177264",
      "metadata": {
        "id": "d5177264"
      },
      "outputs": [],
      "source": [
        "# saving file to csv\n",
        "df_final.to_csv('verification_relevant_reported.csv', header=True, index=True)"
      ]
    },
    {
      "cell_type": "code",
      "execution_count": null,
      "id": "9108d605",
      "metadata": {
        "id": "9108d605"
      },
      "outputs": [],
      "source": [
        "df3 = df_final\n",
        "df3.head(5)"
      ]
    },
    {
      "cell_type": "markdown",
      "source": [
        "# Analysis of File\n",
        "#### I would now like to take a look at some of the information in the data file\n",
        "\n",
        "### *This is largerly code used by Kellen that I have reused with the current smaller data set"
      ],
      "metadata": {
        "id": "grWSTF4NIQXt"
      },
      "id": "grWSTF4NIQXt"
    },
    {
      "cell_type": "code",
      "source": [
        "# Group by accounts to see how many accounts are in each Primary Sector\n",
        "df_account = df3.groupby(['Primary sector'])['Account number'].count().reset_index()\n",
        "df_account"
      ],
      "metadata": {
        "id": "5at2SusKIZmp"
      },
      "id": "5at2SusKIZmp",
      "execution_count": null,
      "outputs": []
    },
    {
      "cell_type": "code",
      "source": [
        "# Group by accounts to see how many accounts are in each Country\n",
        "df_account = df3.groupby(['Country'])['Account number'].count().reset_index()\n",
        "df_account"
      ],
      "metadata": {
        "id": "ASE-OPL9JrmF"
      },
      "id": "ASE-OPL9JrmF",
      "execution_count": null,
      "outputs": []
    },
    {
      "cell_type": "code",
      "source": [
        "# Group by accounts to see how many accounts are in each Country\n",
        "df_account = df3.groupby(['Primary industry'])['Account number'].count().reset_index()\n",
        "df_account"
      ],
      "metadata": {
        "id": "9G47xjzoJr8n"
      },
      "id": "9G47xjzoJr8n",
      "execution_count": null,
      "outputs": []
    },
    {
      "cell_type": "code",
      "source": [
        "#Average CO2 emissions by sector\n",
        "df_mean = df3.groupby(['Primary sector'])['total_scope_3_emissions'].mean().reset_index()\n",
        "df_mean = df_mean.sort_values(by = 'total_scope_3_emissions')\n",
        "\n",
        "df_mean"
      ],
      "metadata": {
        "id": "WDCGXtiCJsN7"
      },
      "id": "WDCGXtiCJsN7",
      "execution_count": null,
      "outputs": []
    },
    {
      "cell_type": "code",
      "source": [
        "# Normalize average CO2 emissions by number of accounts \n",
        "df_mean['CO2_normalized_to_accounts'] = df_mean['total_scope_3_emissions'] /df_account['Account number']"
      ],
      "metadata": {
        "id": "a1O2ByPAJsbx"
      },
      "id": "a1O2ByPAJsbx",
      "execution_count": null,
      "outputs": []
    },
    {
      "cell_type": "code",
      "source": [
        "# Plot (normal and log scale) Average Metric Tonnes CO2 by Primary Sector \n",
        "\n",
        "from matplotlib import pyplot as plt\n",
        "plt.style.use('fivethirtyeight')\n",
        "import numpy as np\n",
        "import seaborn as sns\n",
        "import os\n",
        "\n",
        "\n",
        "df_mean_sorted = df_mean.sort_values('total_scope_3_emissions')\n",
        "fig, (ax1, ax2) = plt.subplots(1, 2, figsize=(20, 20))\n",
        "ax1.barh(y = df_mean_sorted['Primary sector'], width = df_mean_sorted['total_scope_3_emissions'])\n",
        "ax2.barh(y = df_mean_sorted['Primary sector'], width = df_mean_sorted['total_scope_3_emissions'])\n",
        "plt.xscale(\"log\")\n",
        "fig.tight_layout()\n",
        "plt.suptitle('Average Metric Tonnes CO2 by Primary Sector') \n",
        "plt.show()"
      ],
      "metadata": {
        "id": "hRPRc0NNLsf3"
      },
      "id": "hRPRc0NNLsf3",
      "execution_count": null,
      "outputs": []
    },
    {
      "cell_type": "code",
      "source": [
        "# Taking a look at the data frame columns again\n",
        "df3.head(2)"
      ],
      "metadata": {
        "id": "63pgOAn7OrIY"
      },
      "id": "63pgOAn7OrIY",
      "execution_count": null,
      "outputs": []
    },
    {
      "cell_type": "code",
      "source": [],
      "metadata": {
        "id": "01kijKaHLtoY"
      },
      "id": "01kijKaHLtoY",
      "execution_count": null,
      "outputs": []
    },
    {
      "cell_type": "code",
      "source": [
        "plt.figure(figsize=(15,15))\n",
        "sns.heatmap(df3, cmap=\"crest\", annot=True)\n",
        "plt.show()"
      ],
      "metadata": {
        "id": "8gyb7dpCLs-Q"
      },
      "id": "8gyb7dpCLs-Q",
      "execution_count": null,
      "outputs": []
    },
    {
      "cell_type": "code",
      "source": [],
      "metadata": {
        "id": "HjyJa6opLt2O"
      },
      "id": "HjyJa6opLt2O",
      "execution_count": null,
      "outputs": []
    },
    {
      "cell_type": "markdown",
      "source": [],
      "metadata": {
        "id": "zswNqzioLtL8"
      },
      "id": "zswNqzioLtL8"
    },
    {
      "cell_type": "markdown",
      "id": "d6ea4949",
      "metadata": {
        "id": "d6ea4949"
      },
      "source": [
        "# Week 2 Summary\n",
        "###### There are about 3300 companies that listed their scope three emissions as relevant and calculated.\n",
        "###### There are about 1000 companies that have verified these numbers in some way\n"
      ]
    },
    {
      "cell_type": "code",
      "execution_count": null,
      "id": "e53ab900",
      "metadata": {
        "id": "e53ab900"
      },
      "outputs": [],
      "source": []
    }
  ],
  "metadata": {
    "kernelspec": {
      "display_name": "Python 3 (ipykernel)",
      "language": "python",
      "name": "python3"
    },
    "language_info": {
      "codemirror_mode": {
        "name": "ipython",
        "version": 3
      },
      "file_extension": ".py",
      "mimetype": "text/x-python",
      "name": "python",
      "nbconvert_exporter": "python",
      "pygments_lexer": "ipython3",
      "version": "3.9.13"
    },
    "colab": {
      "provenance": [],
      "include_colab_link": true
    }
  },
  "nbformat": 4,
  "nbformat_minor": 5
}
